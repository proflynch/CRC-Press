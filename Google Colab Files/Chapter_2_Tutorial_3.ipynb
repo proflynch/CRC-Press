{
  "nbformat": 4,
  "nbformat_minor": 0,
  "metadata": {
    "colab": {
      "name": "Chapter_2_Tutorial_3.ipynb",
      "provenance": [],
      "collapsed_sections": []
    },
    "kernelspec": {
      "name": "python3",
      "display_name": "Python 3"
    },
    "language_info": {
      "name": "python"
    }
  },
  "cells": [
    {
      "cell_type": "markdown",
      "source": [
        "# Chapter 2: Tutorial Three: Sympy"
      ],
      "metadata": {
        "id": "ILBXkgrDMXRa"
      }
    },
    {
      "cell_type": "code",
      "execution_count": 1,
      "metadata": {
        "id": "y5sU1nbyMTVP"
      },
      "outputs": [],
      "source": [
        "from sympy import *"
      ]
    },
    {
      "cell_type": "code",
      "source": [
        "x , y , n = symbols(\"x y n\")"
      ],
      "metadata": {
        "id": "kqH14E4wMlre"
      },
      "execution_count": 2,
      "outputs": []
    },
    {
      "cell_type": "code",
      "source": [
        "factor(x**2 - y**2)"
      ],
      "metadata": {
        "colab": {
          "base_uri": "https://localhost:8080/",
          "height": 38
        },
        "id": "5xHdKDolMnvz",
        "outputId": "7be92226-fe54-4ffd-9e29-a2bc7f3113df"
      },
      "execution_count": 3,
      "outputs": [
        {
          "output_type": "execute_result",
          "data": {
            "text/plain": [
              "(x - y)*(x + y)"
            ],
            "text/latex": "$\\displaystyle \\left(x - y\\right) \\left(x + y\\right)$"
          },
          "metadata": {},
          "execution_count": 3
        }
      ]
    },
    {
      "cell_type": "code",
      "source": [
        "solve(x**2 - 4 * x - 3 , x)"
      ],
      "metadata": {
        "colab": {
          "base_uri": "https://localhost:8080/"
        },
        "id": "uZKcFvovMqpb",
        "outputId": "fa31e237-77e0-4a54-9336-fb27cd1ae891"
      },
      "execution_count": 4,
      "outputs": [
        {
          "output_type": "execute_result",
          "data": {
            "text/plain": [
              "[2 - sqrt(7), 2 + sqrt(7)]"
            ]
          },
          "metadata": {},
          "execution_count": 4
        }
      ]
    },
    {
      "cell_type": "code",
      "source": [
        "apart(1 / ((x + 2) * (x + 1)))"
      ],
      "metadata": {
        "colab": {
          "base_uri": "https://localhost:8080/",
          "height": 54
        },
        "id": "W_RzUYTYMyPs",
        "outputId": "5b6000e1-9c80-4e99-8961-eba73ae7a7dd"
      },
      "execution_count": 5,
      "outputs": [
        {
          "output_type": "execute_result",
          "data": {
            "text/plain": [
              "-1/(x + 2) + 1/(x + 1)"
            ],
            "text/latex": "$\\displaystyle - \\frac{1}{x + 2} + \\frac{1}{x + 1}$"
          },
          "metadata": {},
          "execution_count": 5
        }
      ]
    },
    {
      "cell_type": "code",
      "source": [
        "trigsimp(cos(x) - cos(x)**3)"
      ],
      "metadata": {
        "colab": {
          "base_uri": "https://localhost:8080/",
          "height": 38
        },
        "id": "hU325IWdM1ji",
        "outputId": "a02efb6f-a790-4337-a07c-013996506891"
      },
      "execution_count": 6,
      "outputs": [
        {
          "output_type": "execute_result",
          "data": {
            "text/plain": [
              "sin(x)**2*cos(x)"
            ],
            "text/latex": "$\\displaystyle \\sin^{2}{\\left(x \\right)} \\cos{\\left(x \\right)}$"
          },
          "metadata": {},
          "execution_count": 6
        }
      ]
    },
    {
      "cell_type": "code",
      "source": [
        "limit(x / sin(x) , x , 0)"
      ],
      "metadata": {
        "colab": {
          "base_uri": "https://localhost:8080/",
          "height": 37
        },
        "id": "yEofwJjNM4He",
        "outputId": "a51bf635-02a2-431b-ac87-2d2a3f97f7ac"
      },
      "execution_count": 7,
      "outputs": [
        {
          "output_type": "execute_result",
          "data": {
            "text/plain": [
              "1"
            ],
            "text/latex": "$\\displaystyle 1$"
          },
          "metadata": {},
          "execution_count": 7
        }
      ]
    },
    {
      "cell_type": "code",
      "source": [
        "diff(x**2 - 7 * x + 8 , x)"
      ],
      "metadata": {
        "colab": {
          "base_uri": "https://localhost:8080/",
          "height": 38
        },
        "id": "JTZl6PzcM7f3",
        "outputId": "bb0b3982-691b-4923-f716-997119520adf"
      },
      "execution_count": 8,
      "outputs": [
        {
          "output_type": "execute_result",
          "data": {
            "text/plain": [
              "2*x - 7"
            ],
            "text/latex": "$\\displaystyle 2 x - 7$"
          },
          "metadata": {},
          "execution_count": 8
        }
      ]
    },
    {
      "cell_type": "code",
      "source": [
        "diff(5 * x**7 , x , 3)"
      ],
      "metadata": {
        "colab": {
          "base_uri": "https://localhost:8080/",
          "height": 38
        },
        "id": "2esJdb0pM-BY",
        "outputId": "f0b21a0e-81f2-4071-cc9b-b06794af1005"
      },
      "execution_count": 9,
      "outputs": [
        {
          "output_type": "execute_result",
          "data": {
            "text/plain": [
              "1050*x**4"
            ],
            "text/latex": "$\\displaystyle 1050 x^{4}$"
          },
          "metadata": {},
          "execution_count": 9
        }
      ]
    },
    {
      "cell_type": "code",
      "source": [
        "diff(3 * x**4 * y**7 , x , 2 , y , 1) # Partial differentiation."
      ],
      "metadata": {
        "colab": {
          "base_uri": "https://localhost:8080/",
          "height": 38
        },
        "id": "dATD5u8jNCVF",
        "outputId": "ffc3c17c-1069-4a0a-e55d-3683b2ff2d97"
      },
      "execution_count": 10,
      "outputs": [
        {
          "output_type": "execute_result",
          "data": {
            "text/plain": [
              "252*x**2*y**6"
            ],
            "text/latex": "$\\displaystyle 252 x^{2} y^{6}$"
          },
          "metadata": {},
          "execution_count": 10
        }
      ]
    },
    {
      "cell_type": "code",
      "source": [
        "(exp(x) * cos(x)).series(x , 0 , 10)"
      ],
      "metadata": {
        "colab": {
          "base_uri": "https://localhost:8080/",
          "height": 56
        },
        "id": "WNUdmGpuNFWE",
        "outputId": "14c97e8b-ea6a-46dd-d85f-f5d8aa9684ed"
      },
      "execution_count": 11,
      "outputs": [
        {
          "output_type": "execute_result",
          "data": {
            "text/plain": [
              "1 + x - x**3/3 - x**4/6 - x**5/30 + x**7/630 + x**8/2520 + x**9/22680 + O(x**10)"
            ],
            "text/latex": "$\\displaystyle 1 + x - \\frac{x^{3}}{3} - \\frac{x^{4}}{6} - \\frac{x^{5}}{30} + \\frac{x^{7}}{630} + \\frac{x^{8}}{2520} + \\frac{x^{9}}{22680} + O\\left(x^{10}\\right)$"
          },
          "metadata": {},
          "execution_count": 11
        }
      ]
    },
    {
      "cell_type": "code",
      "source": [
        "print(integrate(x**4 , x) , \"+ c\")"
      ],
      "metadata": {
        "colab": {
          "base_uri": "https://localhost:8080/"
        },
        "id": "3_SkoWp0NH9T",
        "outputId": "93e71d9a-6d06-42f8-ac04-3d32ce6b7658"
      },
      "execution_count": 12,
      "outputs": [
        {
          "output_type": "stream",
          "name": "stdout",
          "text": [
            "x**5/5 + c\n"
          ]
        }
      ]
    },
    {
      "cell_type": "code",
      "source": [
        "integrate(x**4 , (x , 1 , 3))"
      ],
      "metadata": {
        "colab": {
          "base_uri": "https://localhost:8080/",
          "height": 52
        },
        "id": "AtalguvVNKD_",
        "outputId": "0a5f57dd-94bf-4a92-f978-9ce38a90379b"
      },
      "execution_count": 13,
      "outputs": [
        {
          "output_type": "execute_result",
          "data": {
            "text/plain": [
              "242/5"
            ],
            "text/latex": "$\\displaystyle \\frac{242}{5}$"
          },
          "metadata": {},
          "execution_count": 13
        }
      ]
    },
    {
      "cell_type": "code",
      "source": [
        "integrate(1 / x**2 , (x , 1 , oo))"
      ],
      "metadata": {
        "colab": {
          "base_uri": "https://localhost:8080/",
          "height": 37
        },
        "id": "Q4xhnDAlNMzw",
        "outputId": "97501e5d-b9bd-48aa-f2fe-41eddc1745e7"
      },
      "execution_count": 14,
      "outputs": [
        {
          "output_type": "execute_result",
          "data": {
            "text/plain": [
              "1"
            ],
            "text/latex": "$\\displaystyle 1$"
          },
          "metadata": {},
          "execution_count": 14
        }
      ]
    },
    {
      "cell_type": "code",
      "source": [
        "summation(1 / n**2 , (n , 1 , oo))"
      ],
      "metadata": {
        "colab": {
          "base_uri": "https://localhost:8080/",
          "height": 56
        },
        "id": "uC3eZ3cfNO1M",
        "outputId": "6511acf2-cbd6-494d-91a8-b74109b3d49d"
      },
      "execution_count": 15,
      "outputs": [
        {
          "output_type": "execute_result",
          "data": {
            "text/plain": [
              "pi**2/6"
            ],
            "text/latex": "$\\displaystyle \\frac{\\pi^{2}}{6}$"
          },
          "metadata": {},
          "execution_count": 15
        }
      ]
    },
    {
      "cell_type": "code",
      "source": [
        "solve([x - y , x + 2 * y - 5] , [x , y])"
      ],
      "metadata": {
        "colab": {
          "base_uri": "https://localhost:8080/"
        },
        "id": "7hfSgCWkNQkP",
        "outputId": "9e7092aa-04d5-464f-bb40-57e58df08684"
      },
      "execution_count": 17,
      "outputs": [
        {
          "output_type": "execute_result",
          "data": {
            "text/plain": [
              "{x: 5/3, y: 5/3}"
            ]
          },
          "metadata": {},
          "execution_count": 17
        }
      ]
    },
    {
      "cell_type": "code",
      "source": [
        "solve([x - y , x**2 + y**2 - 1] , [x , y])"
      ],
      "metadata": {
        "colab": {
          "base_uri": "https://localhost:8080/"
        },
        "id": "vLwyfrk2NTDA",
        "outputId": "0ac904e4-98dc-48ce-e9f1-fb93f0487406"
      },
      "execution_count": 18,
      "outputs": [
        {
          "output_type": "execute_result",
          "data": {
            "text/plain": [
              "[(-sqrt(2)/2, -sqrt(2)/2), (sqrt(2)/2, sqrt(2)/2)]"
            ]
          },
          "metadata": {},
          "execution_count": 18
        }
      ]
    },
    {
      "cell_type": "code",
      "source": [
        "N(pi , 500)"
      ],
      "metadata": {
        "colab": {
          "base_uri": "https://localhost:8080/",
          "height": 57
        },
        "id": "uUjMvwTtNWUT",
        "outputId": "04cfbbe2-f621-495f-8d6d-05141657ebd5"
      },
      "execution_count": 19,
      "outputs": [
        {
          "output_type": "execute_result",
          "data": {
            "text/plain": [
              "3.1415926535897932384626433832795028841971693993751058209749445923078164062862089986280348253421170679821480865132823066470938446095505822317253594081284811174502841027019385211055596446229489549303819644288109756659334461284756482337867831652712019091456485669234603486104543266482133936072602491412737245870066063155881748815209209628292540917153643678925903600113305305488204665213841469519415116094330572703657595919530921861173819326117931051185480744623799627495673518857527248912279381830119491"
            ],
            "text/latex": "$\\displaystyle 3.1415926535897932384626433832795028841971693993751058209749445923078164062862089986280348253421170679821480865132823066470938446095505822317253594081284811174502841027019385211055596446229489549303819644288109756659334461284756482337867831652712019091456485669234603486104543266482133936072602491412737245870066063155881748815209209628292540917153643678925903600113305305488204665213841469519415116094330572703657595919530921861173819326117931051185480744623799627495673518857527248912279381830119491$"
          },
          "metadata": {},
          "execution_count": 19
        }
      ]
    },
    {
      "cell_type": "code",
      "source": [
        "A = Matrix([[1 , -1] , [2 , 3]])"
      ],
      "metadata": {
        "id": "xueCr-QaNYj5"
      },
      "execution_count": 20,
      "outputs": []
    },
    {
      "cell_type": "code",
      "source": [
        "B = Matrix([[0 , 2], [3 , 3]])"
      ],
      "metadata": {
        "id": "6FozfHbCNb3K"
      },
      "execution_count": 22,
      "outputs": []
    },
    {
      "cell_type": "code",
      "source": [
        "2 * A + 3 * B"
      ],
      "metadata": {
        "colab": {
          "base_uri": "https://localhost:8080/",
          "height": 57
        },
        "id": "3U9427tTOQZF",
        "outputId": "d68f7ae1-2082-450e-e776-a769fd89d71c"
      },
      "execution_count": 23,
      "outputs": [
        {
          "output_type": "execute_result",
          "data": {
            "text/plain": [
              "Matrix([\n",
              "[ 2,  4],\n",
              "[13, 15]])"
            ],
            "text/latex": "$\\displaystyle \\left[\\begin{matrix}2 & 4\\\\13 & 15\\end{matrix}\\right]$"
          },
          "metadata": {},
          "execution_count": 23
        }
      ]
    },
    {
      "cell_type": "code",
      "source": [
        "A * B"
      ],
      "metadata": {
        "colab": {
          "base_uri": "https://localhost:8080/",
          "height": 57
        },
        "id": "tC7yewz0OY_X",
        "outputId": "3bb40f73-2240-4fd6-ab1b-ee948680efa8"
      },
      "execution_count": 24,
      "outputs": [
        {
          "output_type": "execute_result",
          "data": {
            "text/plain": [
              "Matrix([\n",
              "[-3, -1],\n",
              "[ 9, 13]])"
            ],
            "text/latex": "$\\displaystyle \\left[\\begin{matrix}-3 & -1\\\\9 & 13\\end{matrix}\\right]$"
          },
          "metadata": {},
          "execution_count": 24
        }
      ]
    },
    {
      "cell_type": "code",
      "source": [
        "A.row(0)"
      ],
      "metadata": {
        "colab": {
          "base_uri": "https://localhost:8080/",
          "height": 38
        },
        "id": "lUd9gucbgDxq",
        "outputId": "323d81e9-f27a-43d5-9f3b-a819bd81a784"
      },
      "execution_count": 25,
      "outputs": [
        {
          "output_type": "execute_result",
          "data": {
            "text/plain": [
              "Matrix([[1, -1]])"
            ],
            "text/latex": "$\\displaystyle \\left[\\begin{matrix}1 & -1\\end{matrix}\\right]$"
          },
          "metadata": {},
          "execution_count": 25
        }
      ]
    },
    {
      "cell_type": "code",
      "source": [
        "A.col(1)"
      ],
      "metadata": {
        "colab": {
          "base_uri": "https://localhost:8080/",
          "height": 57
        },
        "id": "CZ3ga-FngDlh",
        "outputId": "a22a8dfa-717e-4183-cdb3-0bd75cb0cdcf"
      },
      "execution_count": 26,
      "outputs": [
        {
          "output_type": "execute_result",
          "data": {
            "text/plain": [
              "Matrix([\n",
              "[-1],\n",
              "[ 3]])"
            ],
            "text/latex": "$\\displaystyle \\left[\\begin{matrix}-1\\\\3\\end{matrix}\\right]$"
          },
          "metadata": {},
          "execution_count": 26
        }
      ]
    },
    {
      "cell_type": "code",
      "source": [
        "A[0 , 1]"
      ],
      "metadata": {
        "colab": {
          "base_uri": "https://localhost:8080/",
          "height": 37
        },
        "id": "NgHEbaO_gDPU",
        "outputId": "aaf54a1e-8a0b-4406-fb40-6698d6810fdc"
      },
      "execution_count": 27,
      "outputs": [
        {
          "output_type": "execute_result",
          "data": {
            "text/plain": [
              "-1"
            ],
            "text/latex": "$\\displaystyle -1$"
          },
          "metadata": {},
          "execution_count": 27
        }
      ]
    },
    {
      "cell_type": "code",
      "source": [
        "A.T"
      ],
      "metadata": {
        "colab": {
          "base_uri": "https://localhost:8080/",
          "height": 57
        },
        "id": "RJRkI1XVgU90",
        "outputId": "67ad1fb9-5b8a-4c61-b012-5ce210cdc401"
      },
      "execution_count": 28,
      "outputs": [
        {
          "output_type": "execute_result",
          "data": {
            "text/plain": [
              "Matrix([\n",
              "[ 1, 2],\n",
              "[-1, 3]])"
            ],
            "text/latex": "$\\displaystyle \\left[\\begin{matrix}1 & 2\\\\-1 & 3\\end{matrix}\\right]$"
          },
          "metadata": {},
          "execution_count": 28
        }
      ]
    },
    {
      "cell_type": "code",
      "source": [
        "A.inv()"
      ],
      "metadata": {
        "colab": {
          "base_uri": "https://localhost:8080/",
          "height": 60
        },
        "id": "gJ8J0xOWgUw4",
        "outputId": "6087ba95-67da-4bd4-979e-95a9102cbdad"
      },
      "execution_count": 29,
      "outputs": [
        {
          "output_type": "execute_result",
          "data": {
            "text/plain": [
              "Matrix([\n",
              "[ 3/5, 1/5],\n",
              "[-2/5, 1/5]])"
            ],
            "text/latex": "$\\displaystyle \\left[\\begin{matrix}\\frac{3}{5} & \\frac{1}{5}\\\\- \\frac{2}{5} & \\frac{1}{5}\\end{matrix}\\right]$"
          },
          "metadata": {},
          "execution_count": 29
        }
      ]
    },
    {
      "cell_type": "code",
      "source": [
        "A.det()"
      ],
      "metadata": {
        "colab": {
          "base_uri": "https://localhost:8080/",
          "height": 37
        },
        "id": "vsc1WE2XgauC",
        "outputId": "9d65188f-2c2e-416c-8144-aab2cf147cd1"
      },
      "execution_count": 30,
      "outputs": [
        {
          "output_type": "execute_result",
          "data": {
            "text/plain": [
              "5"
            ],
            "text/latex": "$\\displaystyle 5$"
          },
          "metadata": {},
          "execution_count": 30
        }
      ]
    },
    {
      "cell_type": "code",
      "source": [
        "zeros(5 , 5)"
      ],
      "metadata": {
        "colab": {
          "base_uri": "https://localhost:8080/",
          "height": 120
        },
        "id": "BHDJYVxXkIro",
        "outputId": "e444056d-cb4f-453e-b5d2-2fda110125ad"
      },
      "execution_count": 31,
      "outputs": [
        {
          "output_type": "execute_result",
          "data": {
            "text/plain": [
              "Matrix([\n",
              "[0, 0, 0, 0, 0],\n",
              "[0, 0, 0, 0, 0],\n",
              "[0, 0, 0, 0, 0],\n",
              "[0, 0, 0, 0, 0],\n",
              "[0, 0, 0, 0, 0]])"
            ],
            "text/latex": "$\\displaystyle \\left[\\begin{matrix}0 & 0 & 0 & 0 & 0\\\\0 & 0 & 0 & 0 & 0\\\\0 & 0 & 0 & 0 & 0\\\\0 & 0 & 0 & 0 & 0\\\\0 & 0 & 0 & 0 & 0\\end{matrix}\\right]$"
          },
          "metadata": {},
          "execution_count": 31
        }
      ]
    },
    {
      "cell_type": "code",
      "source": [
        "ones(1 , 5)"
      ],
      "metadata": {
        "colab": {
          "base_uri": "https://localhost:8080/",
          "height": 38
        },
        "id": "r5EQv8o0kIlb",
        "outputId": "4ff07b17-4726-4ddc-c7e4-523c5cbebd0c"
      },
      "execution_count": 32,
      "outputs": [
        {
          "output_type": "execute_result",
          "data": {
            "text/plain": [
              "Matrix([[1, 1, 1, 1, 1]])"
            ],
            "text/latex": "$\\displaystyle \\left[\\begin{matrix}1 & 1 & 1 & 1 & 1\\end{matrix}\\right]$"
          },
          "metadata": {},
          "execution_count": 32
        }
      ]
    },
    {
      "cell_type": "code",
      "source": [
        "eye(10)"
      ],
      "metadata": {
        "colab": {
          "base_uri": "https://localhost:8080/",
          "height": 220
        },
        "id": "jTtBgtyPkIfQ",
        "outputId": "ecd0b744-b761-4fe5-911d-6ba59586300a"
      },
      "execution_count": 33,
      "outputs": [
        {
          "output_type": "execute_result",
          "data": {
            "text/plain": [
              "Matrix([\n",
              "[1, 0, 0, 0, 0, 0, 0, 0, 0, 0],\n",
              "[0, 1, 0, 0, 0, 0, 0, 0, 0, 0],\n",
              "[0, 0, 1, 0, 0, 0, 0, 0, 0, 0],\n",
              "[0, 0, 0, 1, 0, 0, 0, 0, 0, 0],\n",
              "[0, 0, 0, 0, 1, 0, 0, 0, 0, 0],\n",
              "[0, 0, 0, 0, 0, 1, 0, 0, 0, 0],\n",
              "[0, 0, 0, 0, 0, 0, 1, 0, 0, 0],\n",
              "[0, 0, 0, 0, 0, 0, 0, 1, 0, 0],\n",
              "[0, 0, 0, 0, 0, 0, 0, 0, 1, 0],\n",
              "[0, 0, 0, 0, 0, 0, 0, 0, 0, 1]])"
            ],
            "text/latex": "$\\displaystyle \\left[\\begin{matrix}1 & 0 & 0 & 0 & 0 & 0 & 0 & 0 & 0 & 0\\\\0 & 1 & 0 & 0 & 0 & 0 & 0 & 0 & 0 & 0\\\\0 & 0 & 1 & 0 & 0 & 0 & 0 & 0 & 0 & 0\\\\0 & 0 & 0 & 1 & 0 & 0 & 0 & 0 & 0 & 0\\\\0 & 0 & 0 & 0 & 1 & 0 & 0 & 0 & 0 & 0\\\\0 & 0 & 0 & 0 & 0 & 1 & 0 & 0 & 0 & 0\\\\0 & 0 & 0 & 0 & 0 & 0 & 1 & 0 & 0 & 0\\\\0 & 0 & 0 & 0 & 0 & 0 & 0 & 1 & 0 & 0\\\\0 & 0 & 0 & 0 & 0 & 0 & 0 & 0 & 1 & 0\\\\0 & 0 & 0 & 0 & 0 & 0 & 0 & 0 & 0 & 1\\end{matrix}\\right]$"
          },
          "metadata": {},
          "execution_count": 33
        }
      ]
    },
    {
      "cell_type": "code",
      "source": [
        "M = Matrix([[1 , -1] , [2 , 4]])"
      ],
      "metadata": {
        "id": "EpYsFrlwkIYV"
      },
      "execution_count": 34,
      "outputs": []
    },
    {
      "cell_type": "code",
      "source": [
        "M.eigenvals()"
      ],
      "metadata": {
        "colab": {
          "base_uri": "https://localhost:8080/"
        },
        "id": "ulqgcVTGkINs",
        "outputId": "0c633a81-2c9e-4580-ed25-d334a3c74d92"
      },
      "execution_count": 35,
      "outputs": [
        {
          "output_type": "execute_result",
          "data": {
            "text/plain": [
              "{2: 1, 3: 1}"
            ]
          },
          "metadata": {},
          "execution_count": 35
        }
      ]
    },
    {
      "cell_type": "code",
      "source": [
        "z1 , z2 = 3 + 1j , 5 - 4j"
      ],
      "metadata": {
        "id": "hqO3QPdKkYlc"
      },
      "execution_count": 36,
      "outputs": []
    },
    {
      "cell_type": "code",
      "source": [
        "2 * z1 + z1 * z2"
      ],
      "metadata": {
        "colab": {
          "base_uri": "https://localhost:8080/"
        },
        "id": "nioRGayFkYZ5",
        "outputId": "290fd355-0004-4fd8-9bec-ff589aa3a956"
      },
      "execution_count": 37,
      "outputs": [
        {
          "output_type": "execute_result",
          "data": {
            "text/plain": [
              "(25-5j)"
            ]
          },
          "metadata": {},
          "execution_count": 37
        }
      ]
    },
    {
      "cell_type": "code",
      "source": [
        "abs(z1)"
      ],
      "metadata": {
        "colab": {
          "base_uri": "https://localhost:8080/"
        },
        "id": "rI6CZnrckYNL",
        "outputId": "aa5ffabc-52a8-4c3e-c127-ba6e0ed393d5"
      },
      "execution_count": 38,
      "outputs": [
        {
          "output_type": "execute_result",
          "data": {
            "text/plain": [
              "3.1622776601683795"
            ]
          },
          "metadata": {},
          "execution_count": 38
        }
      ]
    },
    {
      "cell_type": "code",
      "source": [
        "re(z1) , im(z1)"
      ],
      "metadata": {
        "colab": {
          "base_uri": "https://localhost:8080/"
        },
        "id": "iBQTKjRpkkGt",
        "outputId": "576e4f32-f947-4c31-fb03-a254de30bd6a"
      },
      "execution_count": 39,
      "outputs": [
        {
          "output_type": "execute_result",
          "data": {
            "text/plain": [
              "(3.00000000000000, 1.00000000000000)"
            ]
          },
          "metadata": {},
          "execution_count": 39
        }
      ]
    },
    {
      "cell_type": "code",
      "source": [
        "arg(z1)"
      ],
      "metadata": {
        "colab": {
          "base_uri": "https://localhost:8080/",
          "height": 37
        },
        "id": "l9df71PDkj-R",
        "outputId": "a33397a8-d6d8-436f-87ce-55fe8175e623"
      },
      "execution_count": 40,
      "outputs": [
        {
          "output_type": "execute_result",
          "data": {
            "text/plain": [
              "0.321750554396642"
            ],
            "text/latex": "$\\displaystyle 0.321750554396642$"
          },
          "metadata": {},
          "execution_count": 40
        }
      ]
    },
    {
      "cell_type": "code",
      "source": [
        "exp(1j * z1).expand(complex = True)"
      ],
      "metadata": {
        "colab": {
          "base_uri": "https://localhost:8080/",
          "height": 38
        },
        "id": "uRFfUWF2kj2j",
        "outputId": "d91a189b-8961-4d1a-c9c9-e0457da7d329"
      },
      "execution_count": 41,
      "outputs": [
        {
          "output_type": "execute_result",
          "data": {
            "text/plain": [
              "-0.364197886413293 + 0.0519151497031734*I"
            ],
            "text/latex": "$\\displaystyle -0.364197886413293 + 0.0519151497031734 i$"
          },
          "metadata": {},
          "execution_count": 41
        }
      ]
    },
    {
      "cell_type": "markdown",
      "source": [
        "# End of Tutorial Three"
      ],
      "metadata": {
        "id": "VEQut2qLOqO9"
      }
    },
    {
      "cell_type": "code",
      "source": [
        ""
      ],
      "metadata": {
        "id": "8yL_8orekxD8"
      },
      "execution_count": null,
      "outputs": []
    }
  ]
}