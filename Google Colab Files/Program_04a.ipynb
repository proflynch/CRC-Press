{
  "cells": [
    {
      "cell_type": "markdown",
      "metadata": {
        "id": "u2g_DZSD1Xan"
      },
      "source": [
        "# Program_4a.ipynb: Python for AS-Level Mathematics (Part 1)"
      ]
    },
    {
      "cell_type": "markdown",
      "metadata": {
        "id": "NBmMW0Cg1Xav"
      },
      "source": [
        "# Introduction\n",
        "\n",
        "This notebook lists examples of simple Python commands and programs that can be used to help with the understanding of the new A-Level syllabus. Teachers can use the examples to help with teaching or to make up examples and exercises. Pupils can use Python to check their answers and learn programming to help with employability. As you will discover, Python can help with all of the MEI schemes of work listed in the table above. \n",
        "\n",
        "This is a Jupyter notebook launched from within the Anaconda data science platform. Anaconda can be downloaded here:\n",
        "\n",
        "https://www.anaconda.com\n",
        "\n",
        "Python is an open-source programming language used extensively around the world. It is also vital for carrying out Scientific Computation!\n",
        "\n",
        "To execute commands in Jupyter, either Run the cell or hit SHIFT + ENTER.\n",
        "\n",
        "More information on why you should learn Python is given here: <a href=\"https://www.mathscareers.org.uk/python-for-a-level-maths-undergraduate-maths-and-employability/\" title=\"IMA Article\">Python for A-Level Maths, Undergraduate Maths and Employability</a>\n",
        "\n",
        "Alternatively, you can perform cloud computing using Google Colab:\n",
        "\n",
        "https://colab.research.google.com/\n",
        "\n",
        "You will need a Google account to perform cloud computing."
      ]
    },
    {
      "cell_type": "markdown",
      "metadata": {
        "id": "YllDyIhB1Xax"
      },
      "source": [
        "# 1. Surds and Indices\n",
        "\n",
        "   (a) Solve for $x$: $8^x=0.8$.\n",
        "   \n",
        "   (b) From the sympy module import sqrt and simplify.\n",
        "   \n",
        "   (i)  Simplify $(2 + 2 \\sqrt{2})(-\\sqrt{2} + 4)$.\n",
        "   \n",
        "   (ii) Simplify $\\frac{6}{5 \\sqrt{2}}$.\n",
        "   \n",
        "   (iii) Expand $(1+\\sqrt{3})^{4}$. "
      ]
    },
    {
      "cell_type": "code",
      "source": [
        "from sympy import symbols , solve\n",
        "x = symbols(\"x\")\n",
        "solve(8**x-0.8 , x)"
      ],
      "metadata": {
        "colab": {
          "base_uri": "https://localhost:8080/"
        },
        "id": "oGYuwp4x2BOs",
        "outputId": "2c78154d-70aa-4eed-f4f6-7b9770556a9c"
      },
      "execution_count": 3,
      "outputs": [
        {
          "output_type": "execute_result",
          "data": {
            "text/plain": [
              "[-0.107309364962454,\n",
              " -0.107309364962454 - 3.0215734278848*I,\n",
              " -0.107309364962454 + 3.0215734278848*I]"
            ]
          },
          "metadata": {},
          "execution_count": 3
        }
      ]
    },
    {
      "cell_type": "code",
      "execution_count": 6,
      "metadata": {
        "colab": {
          "base_uri": "https://localhost:8080/",
          "height": 38
        },
        "id": "gWnsZsFP1Xay",
        "outputId": "0530ff8b-7446-443c-c8c2-e5a650217962"
      },
      "outputs": [
        {
          "output_type": "execute_result",
          "data": {
            "text/plain": [
              "4 + 6*sqrt(2)"
            ],
            "text/latex": "$\\displaystyle 4 + 6 \\sqrt{2}$"
          },
          "metadata": {},
          "execution_count": 6
        }
      ],
      "source": [
        "# Load functions from the SYMbolic PYthon module.\n",
        "from sympy import sqrt, simplify , expand            \n",
        "simplify((2 + 2 * sqrt(2))*(-sqrt(2) + 4))"
      ]
    },
    {
      "cell_type": "code",
      "execution_count": 7,
      "metadata": {
        "colab": {
          "base_uri": "https://localhost:8080/",
          "height": 57
        },
        "id": "v5s86yUI1Xa1",
        "outputId": "e1f907a6-fc69-4451-90fb-ffd7652d98ff"
      },
      "outputs": [
        {
          "output_type": "execute_result",
          "data": {
            "text/plain": [
              "3*sqrt(2)/5"
            ],
            "text/latex": "$\\displaystyle \\frac{3 \\sqrt{2}}{5}$"
          },
          "metadata": {},
          "execution_count": 7
        }
      ],
      "source": [
        "simplify(6 / (5 * sqrt(2)))"
      ]
    },
    {
      "cell_type": "code",
      "execution_count": 8,
      "metadata": {
        "colab": {
          "base_uri": "https://localhost:8080/",
          "height": 38
        },
        "id": "yTWrrShY1Xa3",
        "outputId": "93317afb-e033-40f0-aeb6-cfd209c2af5a"
      },
      "outputs": [
        {
          "output_type": "execute_result",
          "data": {
            "text/plain": [
              "16*sqrt(3) + 28"
            ],
            "text/latex": "$\\displaystyle 16 \\sqrt{3} + 28$"
          },
          "metadata": {},
          "execution_count": 8
        }
      ],
      "source": [
        "expand((1 + sqrt(3))**4)"
      ]
    },
    {
      "cell_type": "markdown",
      "metadata": {
        "id": "xyLxDQ0Z1Xa5"
      },
      "source": [
        "# 2. Quadratic Functions\n",
        "\n",
        "From sympy import solve and Symbol. Import numpy and matplotlib.\n",
        "\n",
        "(i)  Determine the roots of the equation: $x^2+3x-5=0$.\n"
      ]
    },
    {
      "cell_type": "code",
      "execution_count": 9,
      "metadata": {
        "colab": {
          "base_uri": "https://localhost:8080/"
        },
        "id": "4n2ZXyTB1Xa6",
        "outputId": "793ce28c-b0e0-4ee2-b919-6ae11e01b3e3"
      },
      "outputs": [
        {
          "output_type": "execute_result",
          "data": {
            "text/plain": [
              "[2/3 - sqrt(19)/3, 2/3 + sqrt(19)/3]"
            ]
          },
          "metadata": {},
          "execution_count": 9
        }
      ],
      "source": [
        "from sympy import solve, Symbol\n",
        "x = Symbol('x')\n",
        "solve(3 * x**2 - 4 * x - 5, x)"
      ]
    },
    {
      "cell_type": "markdown",
      "metadata": {
        "id": "C3rtuM8L1Xa9"
      },
      "source": [
        "# 3. Equations and Inequalities\n",
        "\n",
        "(i)  Solve the simultaneous equations: $2x+y=4, x^2-y=4$.\n",
        "\n",
        "(ii) Solve the inequality $x^2-4x+1 \\geq x-3$."
      ]
    },
    {
      "cell_type": "code",
      "execution_count": 10,
      "metadata": {
        "colab": {
          "base_uri": "https://localhost:8080/"
        },
        "id": "VuUUd0c71Xa-",
        "outputId": "03186602-bc83-4e19-9a59-454b763b21d1"
      },
      "outputs": [
        {
          "output_type": "execute_result",
          "data": {
            "text/plain": [
              "[(-4, 12), (2, 0)]"
            ]
          },
          "metadata": {},
          "execution_count": 10
        }
      ],
      "source": [
        "from sympy import solve, symbols\n",
        "x, y = symbols('x, y')\n",
        "solve((2 * x + y - 4, x**2 - y - 4), x, y)"
      ]
    },
    {
      "cell_type": "code",
      "execution_count": 11,
      "metadata": {
        "colab": {
          "base_uri": "https://localhost:8080/",
          "height": 38
        },
        "id": "9bU7lAUK1Xa_",
        "outputId": "9d09400a-125e-4b03-ef9f-e308f1c822f6"
      },
      "outputs": [
        {
          "output_type": "execute_result",
          "data": {
            "text/plain": [
              "((4 <= x) & (x < oo)) | ((x <= 1) & (-oo < x))"
            ],
            "text/latex": "$\\displaystyle \\left(4 \\leq x \\wedge x < \\infty\\right) \\vee \\left(x \\leq 1 \\wedge -\\infty < x\\right)$"
          },
          "metadata": {},
          "execution_count": 11
        }
      ],
      "source": [
        "solve(x**2 - 4 * x + 1 >= x - 3, x)"
      ]
    },
    {
      "cell_type": "markdown",
      "metadata": {
        "id": "46Bhhig01XbA"
      },
      "source": [
        "# 4. Coordinate Geometry\n",
        "\n",
        "Plot a tangent to a circle.\n",
        "\n",
        "(i)  Plot the circle $x^2+y^2-2x-2y-23=0$.\n",
        "\n",
        "(ii) Plot the line $4x-3y-26=0$."
      ]
    },
    {
      "cell_type": "code",
      "execution_count": 12,
      "metadata": {
        "colab": {
          "base_uri": "https://localhost:8080/",
          "height": 392
        },
        "id": "aByEA9Ua1XbB",
        "outputId": "1826c5df-0557-4ecc-8331-b3e1f949c73f"
      },
      "outputs": [
        {
          "output_type": "display_data",
          "data": {
            "text/plain": [
              "<Figure size 432x432 with 1 Axes>"
            ],
            "image/png": "[encoded data removed]"
          },
          "metadata": {
            "needs_background": "light"
          }
        }
      ],
      "source": [
        "import numpy as np\n",
        "import matplotlib.pyplot as plt\n",
        "# Set the dimensions of the figure.\n",
        "fig = plt.figure(figsize = (6, 6))     \n",
        "x, y = np.mgrid[-6:8:100j,-6:8:100j]\n",
        "z = x**2 + y**2 - 2 * x - 2 * y\n",
        "# You can plot multiple contours if desired.\n",
        "plt.contour(x, y, z, levels = [23])   \n",
        "x = np.linspace(2, 8, 100)\n",
        "y = (4 * x - 26) / 3\n",
        "plt.plot(x, y)\n",
        "plt.xlabel('x')\n",
        "plt.ylabel('y')\n",
        "plt.show()"
      ]
    },
    {
      "cell_type": "markdown",
      "metadata": {
        "id": "yswEbKI11XbD"
      },
      "source": [
        "# 5. Trigonometry\n",
        "\n",
        "Plot the trigonometric functions $y=2\\sin(3t)$ and $y=3\\cos(2t-\\pi)$ on one graph."
      ]
    },
    {
      "cell_type": "code",
      "execution_count": null,
      "metadata": {
        "id": "9W1jXLW41XbE",
        "outputId": "a326932d-bf9a-4999-a1e9-5bbd54221d60"
      },
      "outputs": [
        {
          "data": {
            "image/png": "[encoded data removed]",
            "text/plain": [
              "<Figure size 432x288 with 1 Axes>"
            ]
          },
          "metadata": {
            "needs_background": "light"
          },
          "output_type": "display_data"
        }
      ],
      "source": [
        "import numpy as np\n",
        "import matplotlib.pyplot as plt\n",
        "t = np.linspace(-2 * np.pi, 2 * np.pi, 100)\n",
        "# LaTeX code in labels.\n",
        "plt.plot(t, 2 * np.sin(3 * t), label = '$2\\sin(3t)$')             \n",
        "plt.plot(t, 3 * np.cos(2 * t - np.pi), label ='$3\\cos(2t-\\pi)$')\n",
        "legend = plt.legend()\n",
        "plt.show()"
      ]
    },
    {
      "cell_type": "markdown",
      "metadata": {
        "id": "A1FGmZYA1XbF"
      },
      "source": [
        "# 6. Polynomials\n",
        "\n",
        "(i)  Factorize $2x^4-x^3-4x^2-5x-12$.\n",
        "\n",
        "(ii) Expand $\\left(x^2-x+1\\right)\\left(x^3-x^2+x\\right)$."
      ]
    },
    {
      "cell_type": "code",
      "execution_count": null,
      "metadata": {
        "id": "YfzDOUzO1XbG",
        "outputId": "180c2c3f-2e99-475d-a403-cbcaf40f3334"
      },
      "outputs": [
        {
          "name": "stdout",
          "output_type": "stream",
          "text": [
            "(2*x + 3)*(x**3 - 2*x**2 + x - 4)\n",
            "x**5 - 2*x**4 + 3*x**3 - 2*x**2 + x\n"
          ]
        }
      ],
      "source": [
        "from sympy import expand, factor, Symbol\n",
        "x = Symbol('x')\n",
        "p1 = factor(2 * x**4 - x**3 - 4 * x**2 - 5 * x - 12)\n",
        "p2 = expand((x**2 - x + 1) * (x**3 - x**2 + x))\n",
        "print(p1)\n",
        "print(p2)"
      ]
    },
    {
      "cell_type": "markdown",
      "metadata": {
        "id": "F85qh1tZ1XbH"
      },
      "source": [
        "# 7. Graphs and Transformations\n",
        "\n",
        "Plot the trigonometric functions $y_1=sin(t)$ and $y_2=2+2sin(3t+\\pi)$ on one graph."
      ]
    },
    {
      "cell_type": "code",
      "execution_count": null,
      "metadata": {
        "id": "vHkYPhEX1XbH",
        "outputId": "dca63f70-916a-443c-eb4a-a9d520b890e9"
      },
      "outputs": [
        {
          "data": {
            "image/png": "[encoded data removed]",
            "text/plain": [
              "<Figure size 432x288 with 1 Axes>"
            ]
          },
          "metadata": {
            "needs_background": "light"
          },
          "output_type": "display_data"
        }
      ],
      "source": [
        "import numpy as np\n",
        "import matplotlib.pyplot as plt\n",
        "t = np.linspace(-2 * np.pi, 2 * np.pi, 100)\n",
        "plt.plot(t, np.sin(t), t, 2 + 2 * np.sin(3 * t + np.pi))\n",
        "plt.xlabel('t')\n",
        "# LaTeX code in ylabel.\n",
        "plt.ylabel('$y_1, y_2$')                                 \n",
        "plt.show()"
      ]
    },
    {
      "cell_type": "markdown",
      "metadata": {
        "id": "RsUPWRrh1XbN"
      },
      "source": [
        "# 8. The Binomial Expansion\n",
        "\n",
        "(i)  Expand $(1-2x)^6$.\n",
        "\n",
        "(ii) Plot the graph of $B(n)=\\left(1+\\frac{1}{n} \\right)^n$."
      ]
    },
    {
      "cell_type": "code",
      "execution_count": null,
      "metadata": {
        "id": "Sgh-Y8d31XbN",
        "outputId": "33bcd608-080b-4526-e81a-fb93ddb1f481"
      },
      "outputs": [
        {
          "name": "stdout",
          "output_type": "stream",
          "text": [
            "(1 - 2 * x)**6 = 64*x**6 - 192*x**5 + 240*x**4 - 160*x**3 + 60*x**2 - 12*x + 1\n"
          ]
        },
        {
          "data": {
            "image/png": "[encoded data removed]",
            "text/plain": [
              "<Figure size 432x288 with 1 Axes>"
            ]
          },
          "metadata": {
            "needs_background": "light"
          },
          "output_type": "display_data"
        }
      ],
      "source": [
        "from sympy import expand, Symbol\n",
        "import numpy as np\n",
        "import matplotlib.pyplot as plt\n",
        "x = Symbol('x')\n",
        "p1 = expand((1 - 2 * x)**6)\n",
        "print(\"(1 - 2 * x)**6 =\", p1)\n",
        "n = np.linspace(1, 100, 100)\n",
        "plt.plot((1 + 1/ n)**n)\n",
        "plt.xlabel('n')\n",
        "plt.ylabel('B(n)')\n",
        "plt.show()"
      ]
    },
    {
      "cell_type": "markdown",
      "metadata": {
        "id": "6Qs-uPaU1XbO"
      },
      "source": [
        "# 9. Differentiation\n",
        "\n",
        "Determine:\n",
        "\n",
        "(i)  the first derivative of $x^3 + 3x^2 - 7x + 5$;\n",
        "\n",
        "(ii) the second derivative of $4x^3 - 3x^4$."
      ]
    },
    {
      "cell_type": "code",
      "execution_count": null,
      "metadata": {
        "id": "hx1AIS0Z1XbQ",
        "outputId": "69f29905-e4aa-4c7b-9e68-c0162a4b7855"
      },
      "outputs": [
        {
          "name": "stdout",
          "output_type": "stream",
          "text": [
            "3*x**2 + 6*x - 7\n",
            "12*x*(2 - 3*x)\n"
          ]
        }
      ],
      "source": [
        "from sympy import diff, Symbol\n",
        "x = Symbol('x')\n",
        "d1 = diff(x**3 + 3 * x**2 - 7 * x + 5, x)\n",
        "print(d1)\n",
        "d2 = diff(4 * x**3 - 3 * x**4, x, 2)\n",
        "print(d2)"
      ]
    },
    {
      "cell_type": "markdown",
      "metadata": {
        "id": "-JGvVwkG1XbS"
      },
      "source": [
        "# 10. Integration\n",
        "\n",
        "Determine:\n",
        "\n",
        "(i)  the indefinite integral $I_1 = \\int x^4+3x^3-8 dx$;\n",
        "\n",
        "(ii) the definite integral $I_2 = \\int_{x=0}^{\\pi} sin(x)cos(x) dx$."
      ]
    },
    {
      "cell_type": "code",
      "execution_count": null,
      "metadata": {
        "id": "EyKUADhD1XbU",
        "outputId": "ff684c21-dee1-4bd7-f1eb-96f53dc5a63c"
      },
      "outputs": [
        {
          "name": "stdout",
          "output_type": "stream",
          "text": [
            "I_1 = x**5/5 + 3*x**4/4 - 8*x + c\n",
            "I_2 = 0\n"
          ]
        }
      ],
      "source": [
        "from sympy import *\n",
        "x = Symbol('x')\n",
        "i1 = integrate(x**4 + 3 * x**3 - 8)\n",
        "print('I_1 =', i1, \"+ c\")\n",
        "i2 = integrate(sin(x) * cos(x), (x, 0, pi))\n",
        "print('I_2 =',i2)"
      ]
    },
    {
      "cell_type": "code",
      "execution_count": null,
      "metadata": {
        "id": "VacP6-cr1XbX",
        "outputId": "91af0431-e0ce-4e49-a734-4943bd80c163"
      },
      "outputs": [
        {
          "name": "stdout",
          "output_type": "stream",
          "text": [
            "w = [11 -9]\n",
            "d = 8.246211251235321\n"
          ]
        }
      ],
      "source": [
        "import numpy as np\n",
        "u = np.array([1, 3])\n",
        "v = np.array([3, -5])\n",
        "w = 2 * u + 3 * v\n",
        "print(\"w =\", w)\n",
        "d = np.linalg.norm(u - v)\n",
        "print(\"d =\", d)"
      ]
    },
    {
      "cell_type": "markdown",
      "metadata": {
        "id": "UN6EnFvU1XcP"
      },
      "source": [
        "# THE END!\n",
        "\n",
        "<footer> <small>&copy; Copyright 2019-2021, Dr Stephen Lynch FIMA SFHEA</small></footer>"
      ]
    }
  ],
  "metadata": {
    "kernelspec": {
      "display_name": "Python 3",
      "language": "python",
      "name": "python3"
    },
    "language_info": {
      "codemirror_mode": {
        "name": "ipython",
        "version": 3
      },
      "file_extension": ".py",
      "mimetype": "text/x-python",
      "name": "python",
      "nbconvert_exporter": "python",
      "pygments_lexer": "ipython3",
      "version": "3.8.8"
    },
    "colab": {
      "name": "Program_4a.ipynb",
      "provenance": [],
      "collapsed_sections": [
        "UN6EnFvU1XcP"
      ]
    }
  },
  "nbformat": 4,
  "nbformat_minor": 0
}