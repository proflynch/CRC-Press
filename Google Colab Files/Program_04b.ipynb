{
  "cells": [
    {
      "cell_type": "markdown",
      "metadata": {
        "id": "u2g_DZSD1Xan"
      },
      "source": [
        "# Python for AS-Level Mathematics (Part 2)"
      ]
    },
    {
      "cell_type": "markdown",
      "metadata": {
        "id": "NBmMW0Cg1Xav"
      },
      "source": [
        "# Introduction\n",
        "\n",
        "This notebook lists examples of simple Python commands and programs that can be used to help with the understanding of the new A-Level syllabus. Teachers can use the examples to help with teaching or to make up examples and exercises. Pupils can use Python to check their answers and learn programming to help with employability. As you will discover, Python can help with all of the MEI schemes of work listed in the table above. \n",
        "\n",
        "This is a Jupyter notebook launched from within the Anaconda data science platform. Anaconda can be downloaded here:\n",
        "\n",
        "https://www.anaconda.com\n",
        "\n",
        "Python is an open-source programming language used extensively around the world. It is also vital for carrying out Scientific Computation!\n",
        "\n",
        "To execute commands in Jupyter, either Run the cell or hit SHIFT + ENTER.\n",
        "\n",
        "More information on why you should learn Python is given here: <a href=\"https://www.mathscareers.org.uk/python-for-a-level-maths-undergraduate-maths-and-employability/\" title=\"IMA Article\">Python for A-Level Maths, Undergraduate Maths and Employability</a>\n",
        "\n",
        "Alternatively, you can perform cloud computing using Google Colab:\n",
        "\n",
        "https://colab.research.google.com/\n",
        "\n",
        "You will need a Google account to perform cloud computing."
      ]
    },
    {
      "cell_type": "markdown",
      "metadata": {
        "id": "u4TCp4vG1XbW"
      },
      "source": [
        "# 11. Vectors\n",
        "\n",
        "Given that $\\underline{u}=(1, 3)$ and $\\underline{v}=(3, -5)$, determine:\n",
        "\n",
        "(i)  $\\underline{w}=2\\underline{u}+3\\underline{v}$;\n",
        "\n",
        "(ii) the distance between $\\underline{u}$ and $\\underline{v}$, $d=\\| \\underline{u}-\\underline{v} \\|$.\n",
        "\n",
        "The length of the vector $\\underline{u}=\\left( u_1,u_2 \\right)$, or the norm of $\\underline{u}$, is defined to be $\\|\\underline{u} \\|=\\sqrt{u_1^2+u_2^2}$."
      ]
    },
    {
      "cell_type": "code",
      "execution_count": null,
      "metadata": {
        "id": "VacP6-cr1XbX",
        "outputId": "91af0431-e0ce-4e49-a734-4943bd80c163"
      },
      "outputs": [
        {
          "name": "stdout",
          "output_type": "stream",
          "text": [
            "w = [11 -9]\n",
            "d = 8.246211251235321\n"
          ]
        }
      ],
      "source": [
        "import numpy as np\n",
        "u = np.array([1, 3])\n",
        "v = np.array([3, -5])\n",
        "w = 2 * u + 3 * v\n",
        "print(\"w =\", w)\n",
        "d = np.linalg.norm(u - v)\n",
        "print(\"d =\", d)"
      ]
    },
    {
      "cell_type": "markdown",
      "metadata": {
        "id": "g2-3ZIVI1XbY"
      },
      "source": [
        "# 12. Exponentials and Logarithms\n",
        "\n",
        "(i)   Determine $e^{10}$ and $\\log_{10}(22026.4658)$.\n",
        "\n",
        "(ii)  Plot the graph, $x=1-e^{-t}$.\n",
        "\n",
        "(iii) Solve the equation $7^{x-3}=4$. "
      ]
    },
    {
      "cell_type": "code",
      "execution_count": null,
      "metadata": {
        "id": "ccYCiFs_1XbZ",
        "outputId": "c5becd76-d15f-4e95-8a42-00d81603dcf4"
      },
      "outputs": [
        {
          "name": "stdout",
          "output_type": "stream",
          "text": [
            "exp(10) = 22026.465794806718\n",
            "log(22026.4658) = 10.000000000235774\n"
          ]
        },
        {
          "data": {
            "image/png": "[encoded data removed]",
            "text/plain": [
              "<Figure size 432x288 with 1 Axes>"
            ]
          },
          "metadata": {
            "needs_background": "light"
          },
          "output_type": "display_data"
        },
        {
          "name": "stdout",
          "output_type": "stream",
          "text": [
            "The solution to 7**{x-3}=4 is, [log(1372)/log(7)]\n"
          ]
        }
      ],
      "source": [
        "import numpy as np\n",
        "import matplotlib.pyplot as plt\n",
        "exp10 = np.exp(10)\n",
        "print(\"exp(10) =\", exp10)\n",
        "log10 = np.log(22026.4658)\n",
        "print(\"log(22026.4658) =\", log10)\n",
        "t = np.linspace(0, 10, 100)\n",
        "x = 1 - np.exp(- t)\n",
        "plt.plot(t, x)\n",
        "plt.xlabel('t')\n",
        "plt.ylabel('x(t)')\n",
        "plt.show()\n",
        "\n",
        "from sympy import Symbol\n",
        "x = Symbol('x')\n",
        "sol = solve(7**(x-3) - 4)\n",
        "print('The solution to', '7**{x-3}=4 is,', sol)"
      ]
    },
    {
      "cell_type": "markdown",
      "metadata": {
        "id": "4cxD9_IB1Xba"
      },
      "source": [
        "# 13. Data Collection\n",
        "\n",
        "(i)  Select 10 random numbers from a list of the first 25 natural numbers.\n",
        "\n",
        "(ii) Select 10 randon numbers from a list of the first 100 even natural numbers."
      ]
    },
    {
      "cell_type": "code",
      "execution_count": null,
      "metadata": {
        "id": "UEDmej4p1Xbb",
        "outputId": "7df3d50b-c6a3-4571-99c1-b4df9645a566"
      },
      "outputs": [
        {
          "name": "stdout",
          "output_type": "stream",
          "text": [
            "data1 = [22, 15, 21, 4, 5, 25, 9, 20, 19, 23]\n",
            "data2 = [88, 22, 10, 34, 100, 58, 56, 42, 48, 24]\n"
          ]
        }
      ],
      "source": [
        "import math, random, statistics\n",
        "a = list(range(1, 26))\n",
        "data1 = random.sample(a, 10)\n",
        "print(\"data1 =\", data1)\n",
        "b = list(range(2, 102, 2))\n",
        "data2 = random.sample(b, 10)\n",
        "print(\"data2 =\", data2)"
      ]
    },
    {
      "cell_type": "markdown",
      "metadata": {
        "id": "wJcJoZsy1Xbc"
      },
      "source": [
        "# 14. Data Processing\n",
        "\n",
        "Determine the mean, median, mode, variance and standard deviation of the data set:\n",
        "\n",
        "[43, 39, 41, 48, 49, 56, 55, 44, 44, 32, 20, 44, 48, 2, 98]."
      ]
    },
    {
      "cell_type": "code",
      "execution_count": null,
      "metadata": {
        "id": "blLgAvb01Xbd",
        "outputId": "243af6c7-048a-4403-a026-5a544df4fcf7"
      },
      "outputs": [
        {
          "name": "stdout",
          "output_type": "stream",
          "text": [
            "mean_data1 = 44.2\n",
            "median_data1 = 44\n",
            "mode_data1 = 44\n",
            "var_data1 = 411.1714285714286\n",
            "stdev_data1 = 20.277362465849166\n"
          ]
        }
      ],
      "source": [
        "import statistics as stats\n",
        "data1 = [43, 39, 41, 48, 49, 56, 55, 44, 44, 32, 20, 44, 48, 2, 98]\n",
        "mean_data1 = stats.mean(data1)\n",
        "print(\"mean_data1 =\", mean_data1)\n",
        "median_data1 = stats.median(data1)\n",
        "print(\"median_data1 =\", median_data1)\n",
        "mode_data1 = stats.mode(data1)\n",
        "print(\"mode_data1 =\", mode_data1)\n",
        "var_data1 = stats.variance(data1)\n",
        "print(\"var_data1 =\", var_data1)\n",
        "stdev_data1 = stats.stdev(data1)\n",
        "print(\"stdev_data1 =\", stdev_data1)"
      ]
    },
    {
      "cell_type": "markdown",
      "metadata": {
        "id": "wD3IakGB1Xbf"
      },
      "source": [
        "# 15. Probability\n",
        "\n",
        "Plot a Venn diagram for the following data. The following shows the results of a survey on the types of exercises taken by a group of 100 pupils: 65 run, 48 swim, 60 cycle, 40 run and swim, 30 swim and cycle, 35 run and cycle and 25 do all 3. Draw a Venn diagram to represent these data.\n",
        "\n",
        "Let A denote the set of pupils who run, B represent the set of pupils who swim and C contain the set of pupils who cycle."
      ]
    },
    {
      "cell_type": "code",
      "execution_count": null,
      "metadata": {
        "id": "AAhddHzH1Xbg",
        "outputId": "5689dec4-9603-4386-e40f-b81d501ad040"
      },
      "outputs": [
        {
          "data": {
            "image/png": "[encoded data removed]",
            "text/plain": [
              "<Figure size 432x288 with 1 Axes>"
            ]
          },
          "metadata": {},
          "output_type": "display_data"
        }
      ],
      "source": [
        "# Venn Diagram.\n",
        "# Install the matplotlib-venn library on to your computer.\n",
        "# In the Terminal type: conda install -c conda-forge matplotlib-venn\n",
        "# Alternatively, run the code in Google Colab.\n",
        "import matplotlib.pyplot as plt\n",
        "import numpy as np\n",
        "from matplotlib_venn import venn3\n",
        "fig, ax = plt.subplots(facecolor='lightgray')\n",
        "ax.axis([0, 1, 0, 1])\n",
        "v = venn3(subsets = (15, 3, 15, 20, 10, 5, 25))\n",
        "ax.text(1, 1, \"7\")\n",
        "plt.show()"
      ]
    },
    {
      "cell_type": "markdown",
      "metadata": {
        "id": "R4jVhoAy1Xbh"
      },
      "source": [
        "# 16. The Binomial Distribution\n",
        "\n",
        "The binomial distribution is an example of a discrete probability distribution function.\n",
        "\n",
        "Given $X \\sim B(n,p)$, then $P(X=r)={n \\choose r}p^r(1-p)^{n-r}$, \n",
        "\n",
        "where $X$ is a binomial random variable, and $p$ is the probability of $r$ success from $n$ independent trials. Note that (i) the expectation, $E(X)=np$; (ii) the variance, $\\mathrm{var}(X)=np(1-p)$; and (iii) the standard deviation, $\\mathrm{std}=\\sqrt{np(1-p)}$.\n",
        "\n",
        "Example: Manufacturers of a bag of sweets claim that there is a 90% chance that the bag contains some toffees. If 20 bags are chosen, what is the probability that:\n",
        "\n",
        "(a) All bags contain toffees?\n",
        "\n",
        "(b) More than 18 bags contain toffees?\n",
        "\n"
      ]
    },
    {
      "cell_type": "code",
      "execution_count": null,
      "metadata": {
        "id": "WwOg_DcL1Xbh",
        "outputId": "9ba2df2e-1c0d-4158-e3d1-006786e93901"
      },
      "outputs": [
        {
          "data": {
            "image/png": "[encoded data removed]",
            "text/plain": [
              "<Figure size 432x288 with 1 Axes>"
            ]
          },
          "metadata": {
            "needs_background": "light"
          },
          "output_type": "display_data"
        },
        {
          "name": "stdout",
          "output_type": "stream",
          "text": [
            "Mean =  18.0\n",
            "Variance =  1.7999999999999996\n",
            "Standard Deviation =  1.3416407864998736\n",
            "P(X=20)= 0.12157665459056931\n",
            "P(X>18)= 0.3917469981251682\n"
          ]
        }
      ],
      "source": [
        "from scipy.stats import binom\n",
        "import matplotlib.pyplot as plt\n",
        "n , p = 20 , 0.9\n",
        "r_values = list(range(n+1))\n",
        "dist = [binom.pmf(r , n , p) for r in r_values]\n",
        "plt.bar(r_values , dist)\n",
        "plt.show()\n",
        "print('Mean = ', binom.mean(n = 20 , p = 0.9))\n",
        "print('Variance = ', binom.var(n = 20 , p = 0.9))\n",
        "print('Standard Deviation = ', binom.std(n = 20 , p = 0.9))\n",
        "\n",
        "PXis20 = binom.pmf(20, n, p)      # Probability mass function.\n",
        "print('P(X=20)=' , PXis20)    \n",
        "PXGT18 = 1 - binom.cdf(18, n, p)  # Cumulative distribution function.\n",
        "print('P(X>18)=' , PXGT18 )       # P(X>18)=1-P(X<=18)."
      ]
    },
    {
      "cell_type": "markdown",
      "metadata": {
        "id": "G5i4m30r1Xbi"
      },
      "source": [
        "# 17. Hypothesis Testing\n",
        "\n",
        "Example: The probability of a patient recovering from illness after taking a drug is thought to be 0.85. From a trial of 30 patients with the illness, 29 recovered after taking the drug. Test, at the 10% level, whether the probability is different to 0.85.\n",
        "\n",
        "So, $H_0=0.85$, \n",
        "\n",
        "$H_1 \\neq 0.85$. (Two-tail test)\n",
        "\n",
        "The program below gives $P(X \\geq 29)=0.0480<0.05$.\n",
        "\n",
        "Therefore, the result is significant and so we reject $H_0$. There is evidence to suggest that the probability of recovery from the illness after taking the drug is different to 0.85."
      ]
    },
    {
      "cell_type": "code",
      "execution_count": null,
      "metadata": {
        "id": "5QP3JJkb1Xbj",
        "outputId": "f4afa5c9-de64-4d42-dccd-3272af462310"
      },
      "outputs": [
        {
          "data": {
            "image/png": "[encoded data removed]",
            "text/plain": [
              "<Figure size 432x288 with 1 Axes>"
            ]
          },
          "metadata": {
            "needs_background": "light"
          },
          "output_type": "display_data"
        },
        {
          "name": "stdout",
          "output_type": "stream",
          "text": [
            "Mean =  25.5\n",
            "Variance =  3.8250000000000006\n",
            "Standard Deviation =  1.9557607215607948\n",
            "P(X>=29)= 0.04802889862602788\n"
          ]
        }
      ],
      "source": [
        "from scipy.stats import binom\n",
        "import matplotlib.pyplot as plt\n",
        "n , p = 30 , 0.85\n",
        "r_values = list(range(n+1))\n",
        "dist = [binom.pmf(r , n , p) for r in r_values]\n",
        "plt.bar(r_values , dist)\n",
        "plt.show()\n",
        "print('Mean = ', binom.mean(n = 30 , p = 0.85))\n",
        "print('Variance = ', binom.var(n = 30 , p = 0.85))\n",
        "print('Standard Deviation = ', binom.std(n = 30 , p = 0.85))\n",
        "PXGTE29 = 1 - binom.cdf(28, n, p)  # Cumulative distribution function.\n",
        "print('P(X>=29)=' , PXGTE29 )      # P(X>=29)=1-P(X<=28)."
      ]
    },
    {
      "cell_type": "markdown",
      "metadata": {
        "id": "gyLN1kkA1Xbk"
      },
      "source": [
        "# 18. Kinematics\n",
        "\n",
        "Plot a velocity time graph."
      ]
    },
    {
      "cell_type": "code",
      "execution_count": null,
      "metadata": {
        "id": "Wv2PKqYD1Xbl",
        "outputId": "64d3577f-4985-4887-ffb7-4ac0bc3fdfe9"
      },
      "outputs": [
        {
          "data": {
            "image/png": "[encoded data removed]",
            "text/plain": [
              "<Figure size 432x288 with 1 Axes>"
            ]
          },
          "metadata": {
            "needs_background": "light"
          },
          "output_type": "display_data"
        }
      ],
      "source": [
        "import matplotlib.pyplot as plt\n",
        "xs = [0, 3, 9, 15]\n",
        "ys = [14, 8, 8, -4]\n",
        "plt.axis([0, 15, -4, 14])\n",
        "plt.plot(xs, ys)\n",
        "plt.xlabel('time(s)')\n",
        "plt.ylabel('velocity (m/s)')\n",
        "plt.show()"
      ]
    },
    {
      "cell_type": "markdown",
      "metadata": {
        "id": "pDwFmgRP1Xbm"
      },
      "source": [
        "# 19. Forces and Newton's Laws\n",
        "\n",
        "Plot a forces diagram."
      ]
    },
    {
      "cell_type": "code",
      "execution_count": null,
      "metadata": {
        "id": "j3YHS7sM1Xbm",
        "outputId": "5128789d-3e23-4240-ba5b-6154ff16b35c"
      },
      "outputs": [
        {
          "data": {
            "image/png": "[encoded data removed]",
            "text/plain": [
              "<Figure size 432x288 with 1 Axes>"
            ]
          },
          "metadata": {
            "needs_background": "light"
          },
          "output_type": "display_data"
        }
      ],
      "source": [
        "import matplotlib.pyplot as plt\n",
        "ax = plt.axes()\n",
        "plt.axis([-2, 2, -2, 2])\n",
        "ax.arrow(0,0,0,1.5,head_width=0.05,head_length=0.1,fc='k',ec='k')\n",
        "ax.arrow(0,0,1.5,0,head_width=0.05,head_length=0.1,fc='r',ec='r')\n",
        "ax.arrow(0,0,-1.5,-1.5,head_width=0.05,head_length=0.1,fc='b',ec='b')\n",
        "plt.text(0.1,1.5,'$F_1$',fontsize=15)\n",
        "plt.text(1.5,0.1,'$F_2$',{'color':'red','fontsize':15})\n",
        "plt.text(-1.5,-1.2,'$F_3$',{'color':'blue','fontsize':15})\n",
        "plt.show()"
      ]
    },
    {
      "cell_type": "markdown",
      "metadata": {
        "id": "IgbTFLoe1Xbn"
      },
      "source": [
        "# 20. Variable Acceleration\n",
        "\n",
        "Plot a velocity-time graph."
      ]
    },
    {
      "cell_type": "code",
      "execution_count": null,
      "metadata": {
        "id": "aP6Wn4ei1Xbn",
        "outputId": "29ed1978-68ce-4e1f-8406-a747faac5a5e"
      },
      "outputs": [
        {
          "data": {
            "image/png": "[encoded data removed]",
            "text/plain": [
              "<Figure size 432x288 with 1 Axes>"
            ]
          },
          "metadata": {
            "needs_background": "light"
          },
          "output_type": "display_data"
        }
      ],
      "source": [
        "import numpy as np\n",
        "import matplotlib.pyplot as plt\n",
        "pts = np.array([0,1,2,3,3,3,2,1,3,6,10,15])\n",
        "fig = plt.figure()\n",
        "plt.plot(pts)\n",
        "plt.xlabel('time(s)')\n",
        "plt.ylabel('velocity (m/s)')\n",
        "plt.show()"
      ]
    },
    {
      "cell_type": "markdown",
      "metadata": {
        "id": "-hvsOMio1Xbo"
      },
      "source": [
        "# 21. Proof\n",
        "\n",
        "(i) For the natural numbers up to 100, investigate when $2n^2$, is close to a perfect square. \n",
        "\n",
        "This will give a good approximation to $\\sqrt{2}$. Can you explain why?\n",
        "\n",
        "(ii) Prove by elimination, that there is only one solution to the equation:\n",
        "\n",
        "$m^2-17n^2=1$, where $m$ and $n$ are natural numbers and $1 \\leq m \\le 500$, $1 \\leq n \\le 500$.\n",
        "\n",
        "Print the unique values of $m$ and $n$."
      ]
    },
    {
      "cell_type": "code",
      "execution_count": null,
      "metadata": {
        "id": "8p9pBuYq1Xbo",
        "outputId": "5af0f015-8483-4a69-c836-d172f389c505"
      },
      "outputs": [
        {
          "name": "stdout",
          "output_type": "stream",
          "text": [
            "99 divided by 70 is approximately sqrt(2)\n",
            "140 divided by 99 is approximately sqrt(2)\n"
          ]
        }
      ],
      "source": [
        "import numpy as np\n",
        "for n in range(1, 101):\n",
        "    num1 = np.sqrt(2 * n**2)\n",
        "    num2 = int(np.round(np.sqrt(2 * n**2)))\n",
        "    if abs(num1 - num2) < 0.01:\n",
        "        print(num2, 'divided by', n, 'is approximately sqrt(2)')"
      ]
    },
    {
      "cell_type": "code",
      "execution_count": null,
      "metadata": {
        "id": "a45bHNg_1Xbp",
        "outputId": "76b7cea9-d4dd-47ee-c2d6-b14bb61d0c39"
      },
      "outputs": [
        {
          "name": "stdout",
          "output_type": "stream",
          "text": [
            "The unique solution is, m = 33 and n = 8\n"
          ]
        }
      ],
      "source": [
        "# An example of a program with for loops and if statements. \n",
        "# The final value, 501, is not included in range in Python.\n",
        "for m in range(1, 501):                  \n",
        "    for n in range(1, 501):\n",
        "        if m**2 - 17 * n**2 == 1:        # Note the Boolean ==.\n",
        "            print('The unique solution is, m =',m, 'and n =',n)"
      ]
    },
    {
      "cell_type": "markdown",
      "metadata": {
        "id": "UN6EnFvU1XcP"
      },
      "source": [
        "# THE END!\n",
        "\n",
        "<footer> <small>&copy; Copyright 2019-2021, Dr Stephen Lynch FIMA SFHEA</small></footer>"
      ]
    }
  ],
  "metadata": {
    "kernelspec": {
      "display_name": "Python 3",
      "language": "python",
      "name": "python3"
    },
    "language_info": {
      "codemirror_mode": {
        "name": "ipython",
        "version": 3
      },
      "file_extension": ".py",
      "mimetype": "text/x-python",
      "name": "python",
      "nbconvert_exporter": "python",
      "pygments_lexer": "ipython3",
      "version": "3.8.8"
    },
    "colab": {
      "name": "Program_4b.ipynb",
      "provenance": [],
      "collapsed_sections": [
        "g2-3ZIVI1XbY",
        "UN6EnFvU1XcP"
      ]
    }
  },
  "nbformat": 4,
  "nbformat_minor": 0
}