{
  "cells": [
    {
      "cell_type": "markdown",
      "metadata": {
        "id": "u2g_DZSD1Xan"
      },
      "source": [
        "# Program_5a.ipynb: Python for A-Level Mathematics (Part 1)"
      ]
    },
    {
      "cell_type": "markdown",
      "metadata": {
        "id": "NBmMW0Cg1Xav"
      },
      "source": [
        "# Introduction\n",
        "\n",
        "This notebook lists examples of simple Python commands and programs that can be used to help with the understanding of the new A-Level syllabus. Teachers can use the examples to help with teaching or to make up examples and exercises. Pupils can use Python to check their answers and learn programming to help with employability. As you will discover, Python can help with all of the MEI schemes of work listed in the table above. \n",
        "\n",
        "This is a Jupyter notebook launched from within the Anaconda data science platform. Anaconda can be downloaded here:\n",
        "\n",
        "https://www.anaconda.com\n",
        "\n",
        "Python is an open-source programming language used extensively around the world. It is also vital for carrying out Scientific Computation!\n",
        "\n",
        "To execute commands in Jupyter, either Run the cell or hit SHIFT + ENTER.\n",
        "\n",
        "More information on why you should learn Python is given here: <a href=\"https://www.mathscareers.org.uk/python-for-a-level-maths-undergraduate-maths-and-employability/\" title=\"IMA Article\">Python for A-Level Maths, Undergraduate Maths and Employability</a>\n",
        "\n",
        "Alternatively, you can perform cloud computing using Google Colab:\n",
        "\n",
        "https://colab.research.google.com/\n",
        "\n",
        "You will need a Google account to perform cloud computing."
      ]
    },
    {
      "cell_type": "code",
      "execution_count": null,
      "metadata": {
        "id": "EyKUADhD1XbU",
        "outputId": "ff684c21-dee1-4bd7-f1eb-96f53dc5a63c"
      },
      "outputs": [
        {
          "name": "stdout",
          "output_type": "stream",
          "text": [
            "I_1 = x**5/5 + 3*x**4/4 - 8*x + c\n",
            "I_2 = 0\n"
          ]
        }
      ],
      "source": [
        "from sympy import *\n",
        "x = Symbol('x')\n",
        "i1 = integrate(x**4 + 3 * x**3 - 8)\n",
        "print('I_1 =', i1, \"+ c\")\n",
        "i2 = integrate(sin(x) * cos(x), (x, 0, pi))\n",
        "print('I_2 =',i2)"
      ]
    },
    {
      "cell_type": "markdown",
      "metadata": {
        "id": "H7R27C541Xbp"
      },
      "source": [
        "# 22. Trigonometry\n",
        "\n",
        "By plotting curves, show that: \n",
        "\n",
        "(i)  $\\sin(t) \\approx t$, near $t=0$;\n",
        "\n",
        "(ii) $\\cos(t) \\approx 1 - \\frac{t^2}{2}$, near $t=0$. "
      ]
    },
    {
      "cell_type": "code",
      "execution_count": null,
      "metadata": {
        "id": "KfhcFhui1Xbq",
        "outputId": "a348be62-9aa5-4582-b2cb-d6014fb496d5"
      },
      "outputs": [
        {
          "data": {
            "image/png": "[encoded data removed]",
            "text/plain": [
              "<Figure size 432x288 with 2 Axes>"
            ]
          },
          "metadata": {
            "needs_background": "light"
          },
          "output_type": "display_data"
        }
      ],
      "source": [
        "import numpy as np\n",
        "import matplotlib.pyplot as plt\n",
        "plt.figure(1)\n",
        "plt.subplot(121)\n",
        "t = np.linspace(- 2, 2, 100)\n",
        "plt.plot(t, np.sin(t), t, t)\n",
        "plt.xlabel('t')\n",
        "plt.ylabel('f(t)')\n",
        "plt.subplot(122)\n",
        "t = np.linspace(- 2, 2, 100)\n",
        "plt.plot(t, np.cos(t), t, 1 - t**2 / 2)\n",
        "plt.xlabel('t')\n",
        "plt.ylabel('f(t)')\n",
        "plt.subplots_adjust(wspace=1)\n",
        "plt.show()"
      ]
    },
    {
      "cell_type": "markdown",
      "metadata": {
        "id": "xxwAwh971Xbq"
      },
      "source": [
        "# 23. Sequences and Series\n",
        "\n",
        "Given that, for an arithemtic series:\n",
        "\n",
        "$a_n=a+(n-1)d$\n",
        "\n",
        "$S_n=\\sum_{i=1}^{n} \\, a+(n-1)d$.\n",
        "\n",
        "Determine:\n",
        "\n",
        "(i)  the term $a_{20}$,\n",
        "\n",
        "(ii) the sum $S_{20}$,\n",
        "\n",
        "when $a=3$ and $d=6$.\n"
      ]
    },
    {
      "cell_type": "code",
      "execution_count": null,
      "metadata": {
        "id": "WUauz1ku1Xbr",
        "outputId": "e16e8e96-8fa6-4dc4-9870-9b7cd0db50b2"
      },
      "outputs": [
        {
          "name": "stdout",
          "output_type": "stream",
          "text": [
            "The 20 th term is 117\n",
            "The sum of the 20 terms is 1200\n"
          ]
        }
      ],
      "source": [
        "def nthterm(a, d, n):\n",
        "    term = a + (n - 1) * d\n",
        "    return(term)\n",
        "def sumofAP(a, d, n):\n",
        "    sum, i = 0, 0\n",
        "    while i < n:\n",
        "        sum += a                     \n",
        "        a = a + d\n",
        "        i += 1             # i = i + 1.                       \n",
        "    return sum\n",
        "a, d, n = 3, 6, 20\n",
        "print('The', n, 'th', 'term is', nthterm(a, d, n))\n",
        "print('The sum of the', n, 'terms is', sumofAP(a, d, n))"
      ]
    },
    {
      "cell_type": "markdown",
      "metadata": {
        "id": "GnkvWPFR1Xbs"
      },
      "source": [
        "# 24. Functions\n",
        "\n",
        "Given that $f(x)=1-x^2$, determine:\n",
        "\n",
        "(i)  $f(2)$;\n",
        "\n",
        "(ii) $f(f(x))$."
      ]
    },
    {
      "cell_type": "code",
      "execution_count": null,
      "metadata": {
        "id": "Mr7JOZei1Xbs",
        "outputId": "3bd48336-70df-49d0-c19b-8b37629dce36"
      },
      "outputs": [
        {
          "name": "stdout",
          "output_type": "stream",
          "text": [
            "f(x) =  1 - x**2\n",
            "f(2) =  -3\n",
            "f(f(x)) =  -x**4 + 2*x**2\n"
          ]
        }
      ],
      "source": [
        "from sympy import expand, Symbol\n",
        "x = Symbol('x')\n",
        "def f(x):\n",
        "    return(1 - x**2)\n",
        "print('f(x) = ', f(x))\n",
        "print('f(2) = ', f(2))\n",
        "print('f(f(x)) = ', expand(f(f(x))))"
      ]
    },
    {
      "cell_type": "markdown",
      "metadata": {
        "id": "e-zB1o9G1Xbt"
      },
      "source": [
        "# 25. Differentiation\n",
        "\n",
        "Given that, $f(x)=\\frac{x}{\\sqrt{2x-1}}$, determine $\\left. \\frac{df}{dx} \\right|_{x=5}$."
      ]
    },
    {
      "cell_type": "code",
      "execution_count": null,
      "metadata": {
        "id": "L98awWAW1Xbu",
        "outputId": "f0272de0-e8f5-4c89-bf0b-d917b3756a7c"
      },
      "outputs": [
        {
          "name": "stdout",
          "output_type": "stream",
          "text": [
            "df/dx =  -x/(2*x - 1)**(3/2) + 1/sqrt(2*x - 1)\n",
            "Gradient at x = 5 is 4/27\n"
          ]
        }
      ],
      "source": [
        "from sympy import diff, sqrt, Symbol\n",
        "x = Symbol('x')\n",
        "df = diff(x / sqrt(2 * x - 1), x)\n",
        "print('df/dx = ', df)\n",
        "dfx = df.subs(x, 5)\n",
        "print('Gradient at x = 5 is', dfx)"
      ]
    },
    {
      "cell_type": "markdown",
      "metadata": {
        "id": "Jd9GhnLa1Xbu"
      },
      "source": [
        "# 26. Trigonometric Functions\n",
        "\n",
        "Plot the curve $\\sec(t)=\\frac{1}{\\cos(t)}$."
      ]
    },
    {
      "cell_type": "code",
      "execution_count": null,
      "metadata": {
        "id": "YXM8h2SK1Xbv",
        "outputId": "092fccb0-9448-4b64-c9c0-f79433661d43"
      },
      "outputs": [
        {
          "data": {
            "image/png": "[encoded data removed]",
            "text/plain": [
              "<Figure size 432x288 with 1 Axes>"
            ]
          },
          "metadata": {
            "needs_background": "light"
          },
          "output_type": "display_data"
        }
      ],
      "source": [
        "import numpy as np\n",
        "import matplotlib.pyplot as plt\n",
        "t = np.linspace(- 2 * np.pi, 2 * np.pi, 1000)\n",
        "plt.axis([-2 * np.pi, 2 * np.pi, -10, 10])\n",
        "plt.plot(t, 1 / np.cos(t))\n",
        "plt.xlabel('t')\n",
        "plt.ylabel('sec(t)')\n",
        "plt.show()"
      ]
    },
    {
      "cell_type": "markdown",
      "metadata": {
        "id": "fL16P1x91Xbw"
      },
      "source": [
        "Solve the trigonometric equation: $2\\cos(x) + 5\\sin(x)=3$."
      ]
    },
    {
      "cell_type": "code",
      "execution_count": null,
      "metadata": {
        "id": "jBzvvW2s1Xbw",
        "outputId": "c80e2de6-cb6a-4ecd-f55a-8a979c9efa78"
      },
      "outputs": [
        {
          "data": {
            "text/plain": [
              "[2*atan(1 - 2*sqrt(5)/5), 2*atan(2*sqrt(5)/5 + 1)]"
            ]
          },
          "execution_count": 35,
          "metadata": {},
          "output_type": "execute_result"
        }
      ],
      "source": [
        "from sympy import *\n",
        "x = Symbol('x')\n",
        "solve(2 * cos(x) + 5 * sin(x) - 3)"
      ]
    },
    {
      "cell_type": "markdown",
      "metadata": {
        "id": "UJv0KBpz1Xbx"
      },
      "source": [
        "# 27. Algebra\n",
        "\n",
        "Split $\\frac{2x+3}{(x-2)(x-3)(x-4)}$ into partial fractions."
      ]
    },
    {
      "cell_type": "code",
      "execution_count": null,
      "metadata": {
        "id": "Nj6_YLW_1Xby",
        "outputId": "1f1aa265-d7b2-4d4c-ee91-6d47698dd4ce"
      },
      "outputs": [
        {
          "data": {
            "text/latex": [
              "$\\displaystyle \\frac{7}{2 \\left(x - 2\\right)} - \\frac{9}{x - 3} + \\frac{11}{2 \\left(x - 4\\right)}$"
            ],
            "text/plain": [
              "7/(2*(x - 2)) - 9/(x - 3) + 11/(2*(x - 4))"
            ]
          },
          "execution_count": 36,
          "metadata": {},
          "output_type": "execute_result"
        }
      ],
      "source": [
        "from sympy import *\n",
        "x = Symbol('x')\n",
        "apart((2 * x + 3)/((x - 2) * (x - 3) * (x - 4)))"
      ]
    },
    {
      "cell_type": "markdown",
      "metadata": {
        "id": "Burvg3cq1Xby"
      },
      "source": [
        "(i) Determine the $O(x^{10})$ Taylor series expansion of $\\frac{1}{2-x}$, at $x=0$. \n",
        "\n",
        "(ii) By plotting curves, show that $\\frac{1}{2-x} \\approx \\frac{1}{2}+\\frac{x}{4}+\\frac{x^2}{8}$, at $x=0$."
      ]
    },
    {
      "cell_type": "code",
      "execution_count": null,
      "metadata": {
        "id": "5HVC-nc41Xbz",
        "outputId": "09618e75-83cd-445e-f266-95dd4d24892a"
      },
      "outputs": [
        {
          "name": "stdout",
          "output_type": "stream",
          "text": [
            "The Taylor series of 1/(2-x) is  1/2 + x/4 + x**2/8 + x**3/16 + x**4/32 + x**5/64 + x**6/128 + x**7/256 + x**8/512 + x**9/1024 + O(x**10)\n"
          ]
        },
        {
          "data": {
            "image/png": "[encoded data removed]",
            "text/plain": [
              "<Figure size 432x288 with 1 Axes>"
            ]
          },
          "metadata": {
            "needs_background": "light"
          },
          "output_type": "display_data"
        }
      ],
      "source": [
        "import numpy as np\n",
        "import matplotlib.pyplot as plt\n",
        "from sympy import series, Symbol\n",
        "x = Symbol('x')\n",
        "Taylor_series = series(1 / (2 - x), x, 0 , 10)\n",
        "print('The Taylor series of 1/(2-x) is ', Taylor_series)\n",
        "x = np.linspace(-1.5, 1.5, 100)\n",
        "plt.axis([-1.5, 1.5, 0, 3])\n",
        "plt.plot(x, 1/(2 - x), label = '1/(2-x)')\n",
        "plt.plot(x, 1/2 + x/4 + x**2/8, label = 'Taylor series')\n",
        "legend = plt.legend()\n",
        "plt.xlabel('x')\n",
        "plt.show()"
      ]
    },
    {
      "cell_type": "markdown",
      "metadata": {
        "id": "PkVbICHL1Xb0"
      },
      "source": [
        "# 28. Trigonometric Identities\n",
        "\n",
        "Show that the curves $f(t)=\\sqrt{2}\\cos(t)+\\sin(t)$, and $g(t)=\\sqrt{3}\\cos(t-\\alpha)$, are equivalent, where $\\alpha=\\tan^{-1}\\left( {\\frac{1}{\\sqrt{2}}} \\right)$. "
      ]
    },
    {
      "cell_type": "code",
      "execution_count": null,
      "metadata": {
        "id": "sMh22IHK1Xb1",
        "outputId": "d7e1be09-318a-4dcb-aa1d-99a7a5a67b13"
      },
      "outputs": [
        {
          "data": {
            "image/png": "[encoded data removed]",
            "text/plain": [
              "<Figure size 432x288 with 1 Axes>"
            ]
          },
          "metadata": {
            "needs_background": "light"
          },
          "output_type": "display_data"
        }
      ],
      "source": [
        "import numpy as np\n",
        "from sympy import sqrt\n",
        "from math import atan\n",
        "import matplotlib.pyplot as plt\n",
        "alpha = atan(1/sqrt(2))\n",
        "t = np.linspace(- 2 * np.pi, 2 * np.pi, 100)\n",
        "plt.plot(t, sqrt(2) * np.cos(t) + np.sin(t), 'r-',linewidth = 10)\n",
        "plt.plot(t, sqrt(3) * np.cos(t - alpha), 'b-', linewidth = 4)\n",
        "plt.xlabel('t')\n",
        "plt.ylabel('f(t)')\n",
        "plt.show()"
      ]
    },
    {
      "cell_type": "markdown",
      "metadata": {
        "id": "ee8yfvRZ1Xb1"
      },
      "source": [
        "# 29. Further Differentiation\n",
        "\n",
        "Differentiate:\n",
        "\n",
        "(i)   $f(x)=3x^2e^{-3x}$;\n",
        "\n",
        "(ii)  $g(x)=\\frac{3\\sin(x)}{\\ln(7x)}$;\n",
        "\n",
        "(iii) $h(x)=\\frac{xe^{-2x}\\cos(x)}{(x+1)\\sin(x)}$."
      ]
    },
    {
      "cell_type": "code",
      "execution_count": null,
      "metadata": {
        "id": "bZVdIWvp1Xb2",
        "outputId": "8e2d8d90-b71b-4810-8b2c-c92da9be263e"
      },
      "outputs": [
        {
          "name": "stdout",
          "output_type": "stream",
          "text": [
            "df =  -9*x**2*exp(-3*x) + 6*x*exp(-3*x)\n",
            "dg =  3*cos(x)/log(7*x) - 3*sin(x)/(x*log(7*x)**2)\n",
            "dh = -x*exp(-2*x)/(x + 1) - 2*x*exp(-2*x)*cos(x)/((x + 1)*sin(x)) - x*exp(-2*x)*cos(x)**2/((x + 1)*sin(x)**2) - x*exp(-2*x)*cos(x)/((x + 1)**2*sin(x)) + exp(-2*x)*cos(x)/((x + 1)*sin(x))\n"
          ]
        }
      ],
      "source": [
        "from sympy import diff, exp, log, sin, Symbol\n",
        "x = Symbol('x')\n",
        "print('df = ', diff(3 * x**2 * exp(- 3 * x), x))\n",
        "print('dg = ', diff((3*sin(x))/log(7*x)))\n",
        "print('dh =', diff((x*exp(-2*x)*cos(x)) / ((x+1)*sin(x))))"
      ]
    },
    {
      "cell_type": "markdown",
      "metadata": {
        "id": "L7V1MHQ21Xb2"
      },
      "source": [
        "# 30. Integration\n",
        "\n",
        "Integrate:\n",
        "\n",
        "(i)  $I_1 =\\int \\, x^2\\cos(x^3) dx$;\n",
        "\n",
        "(ii) $I_2 =\\int \\, x \\cos(4x) dx$."
      ]
    },
    {
      "cell_type": "code",
      "execution_count": null,
      "metadata": {
        "id": "UERCiZDq1Xb3",
        "outputId": "c1d3054b-0cf6-4f4f-9884-f284743fc101"
      },
      "outputs": [
        {
          "name": "stdout",
          "output_type": "stream",
          "text": [
            "I_1= sin(x**3)/3 + c\n",
            "I_2= x*sin(4*x)/4 + cos(4*x)/16 + k\n"
          ]
        }
      ],
      "source": [
        "from sympy import cos, integrate, Symbol\n",
        "x = Symbol('x')\n",
        "I_1 = integrate(x**2 * cos(x**3), x)\n",
        "print('I_1=',I_1, '+ c')\n",
        "I_2 = integrate(x * cos(4 * x), x)\n",
        "print('I_2=',I_2, '+ k')"
      ]
    },
    {
      "cell_type": "markdown",
      "metadata": {
        "id": "TCFgFS1I1Xb3"
      },
      "source": [
        "# 31. Parametric Equations\n",
        "\n",
        "Plot the parametric curve, $x(t)=1-\\cos(t), y(t)=\\sin(2t)$, for $0 \\leq t \\leq 2 \\pi$."
      ]
    },
    {
      "cell_type": "code",
      "execution_count": null,
      "metadata": {
        "id": "ehtBOwLH1Xb4",
        "outputId": "b8dad63a-ccfa-4d0f-d2f0-089c50aefbba"
      },
      "outputs": [
        {
          "data": {
            "image/png": "[encoded data removed]",
            "text/plain": [
              "<Figure size 432x288 with 1 Axes>"
            ]
          },
          "metadata": {
            "needs_background": "light"
          },
          "output_type": "display_data"
        }
      ],
      "source": [
        "import numpy as np\n",
        "import matplotlib.pyplot as plt\n",
        "t = np.linspace(0, 2 * np.pi, 100)\n",
        "x = 1 - np.cos(t)\n",
        "y = np.sin(2 * t)\n",
        "plt.plot(x, y)\n",
        "plt.xlabel('x')\n",
        "plt.ylabel('y')\n",
        "plt.show()"
      ]
    },
    {
      "cell_type": "markdown",
      "metadata": {
        "id": "6B6Uexe41Xb4"
      },
      "source": [
        "# 32. Vectors\n",
        "\n",
        "Given that $\\underline{u}=(1,-1,4)$ and $\\underline{v}=(2,-1,9)$, determine:\n",
        "\n",
        "(i)   $5\\underline{u}-6\\underline{v}$;\n",
        "\n",
        "(ii)  the distance between $\\underline{u}$ and $\\underline{v}$, $d=\\| \\underline{u}-\\underline{v} \\|$.\n",
        "\n",
        "(iii) the angle, $\\theta$, say, between $\\underline{u}$ and $\\underline{v}$.\n",
        "\n",
        "Recall that $\\cos{\\theta}=\\frac{\\underline{u}.\\underline{v}}{\\|\\underline{u} \\| \\|\\underline{v} \\|}$."
      ]
    },
    {
      "cell_type": "code",
      "execution_count": null,
      "metadata": {
        "id": "n8Y9t2Fq1Xb5",
        "outputId": "3739ce51-674a-44a4-a222-468960e73f9d"
      },
      "outputs": [
        {
          "name": "stdout",
          "output_type": "stream",
          "text": [
            "w = [ -7   1 -34]\n",
            "d = 5.0990195135927845\n",
            "theta = 0.13245459846204063 radians\n"
          ]
        }
      ],
      "source": [
        "import numpy as np\n",
        "from math import acos\n",
        "u = np.array([1, -1, 4])\n",
        "v = np.array([2, -1, 9])\n",
        "w = 5 * u - 6 * v\n",
        "print(\"w =\", w)\n",
        "d = np.linalg.norm(u - v)\n",
        "print(\"d =\", d)\n",
        "theta = acos(np.dot(u,v)/(np.linalg.norm(u) * np.linalg.norm(v)))\n",
        "print('theta =', theta, 'radians')"
      ]
    },
    {
      "cell_type": "markdown",
      "metadata": {
        "id": "UN6EnFvU1XcP"
      },
      "source": [
        "# THE END!\n",
        "\n",
        "<footer> <small>&copy; Copyright 2019-2021, Dr Stephen Lynch FIMA SFHEA</small></footer>"
      ]
    }
  ],
  "metadata": {
    "kernelspec": {
      "display_name": "Python 3",
      "language": "python",
      "name": "python3"
    },
    "language_info": {
      "codemirror_mode": {
        "name": "ipython",
        "version": 3
      },
      "file_extension": ".py",
      "mimetype": "text/x-python",
      "name": "python",
      "nbconvert_exporter": "python",
      "pygments_lexer": "ipython3",
      "version": "3.8.8"
    },
    "colab": {
      "name": "Program_05a.ipynb",
      "provenance": [],
      "collapsed_sections": [
        "UN6EnFvU1XcP"
      ]
    }
  },
  "nbformat": 4,
  "nbformat_minor": 0
}