{
  "nbformat": 4,
  "nbformat_minor": 0,
  "metadata": {
    "colab": {
      "provenance": []
    },
    "kernelspec": {
      "name": "python3",
      "display_name": "Python 3"
    },
    "language_info": {
      "name": "python"
    }
  },
  "cells": [
    {
      "cell_type": "code",
      "execution_count": null,
      "metadata": {
        "id": "ATE7wLBWPsB3"
      },
      "outputs": [],
      "source": [
        "# Program_10c.py: An animation of Chua’s circuit in Google Colab.\n",
        "from matplotlib import pyplot as plt\n",
        "from matplotlib import animation\n",
        "from matplotlib import style\n",
        "import numpy as np\n",
        "from scipy.integrate import odeint\n",
        "fig=plt.figure()\n",
        "myimages=[]\n",
        "mo , m1 , Tmax = -1/7 , 2/7 , 50\n",
        "def Chua(x, t):\n",
        "    return [a*(x[1]-(m1*x[0]+(mo-m1)/2*(np.abs(x[0]+1)-\\\n",
        "    np.abs(x[0]-1)))),x[0]-x[1]+x[2],-15*x[1]]\n",
        "style.use(\"ggplot\")\n",
        "time = np.arange(0, Tmax, 0.1)\n",
        "x0=[1.96,-0.0519,-3.077]\n",
        "for a in np.arange(8, 11, 0.1):\n",
        "    xs = odeint(Chua, x0, time)\n",
        "    imgplot = plt.plot(xs[:,0], xs[:,1], \"g-\")\n",
        "    myimages.append(imgplot)\n",
        "anim=animation.ArtistAnimation(fig,myimages,interval=500,\\\n",
        "                                  blit=False,repeat_delay=500)\n",
        "plt.close()\n",
        "from IPython.display import HTML\n",
        "HTML(anim.to_jshtml())"
      ]
    }
  ]
}