{
  "nbformat": 4,
  "nbformat_minor": 0,
  "metadata": {
    "colab": {
      "name": "Program_20b.ipynb",
      "provenance": [],
      "collapsed_sections": []
    },
    "kernelspec": {
      "name": "python3",
      "display_name": "Python 3"
    },
    "language_info": {
      "name": "python"
    }
  },
  "cells": [
    {
      "cell_type": "code",
      "execution_count": null,
      "metadata": {
        "colab": {
          "base_uri": "https://localhost:8080/",
          "height": 1000
        },
        "id": "DQ1jlESo6h39",
        "outputId": "a39dafd0-0a6b-434e-e85d-435e99d47bcc"
      },
      "outputs": [
        {
          "output_type": "display_data",
          "data": {
            "text/plain": [
              "<Figure size 480x480 with 1 Axes>"
            ],
            "image/png": "[encoded data removed]"
          },
          "metadata": {
            "needs_background": "light"
          }
        },
        {
          "output_type": "display_data",
          "data": {
            "text/plain": [
              "<Figure size 480x480 with 1 Axes>"
            ],
            "image/png": "[encoded data removed]"
          },
          "metadata": {
            "needs_background": "light"
          }
        },
        {
          "output_type": "stream",
          "name": "stdout",
          "text": [
            "Model: \"model\"\n",
            "_________________________________________________________________\n",
            " Layer (type)                Output Shape              Param #   \n",
            "=================================================================\n",
            " input_1 (InputLayer)        [(None, 28, 28, 1)]       0         \n",
            "                                                                 \n",
            " conv2d (Conv2D)             (None, 12, 12, 64)        1664      \n",
            "                                                                 \n",
            " conv2d_1 (Conv2D)           (None, 4, 4, 64)          102464    \n",
            "                                                                 \n",
            " flatten (Flatten)           (None, 1024)              0         \n",
            "                                                                 \n",
            " dense (Dense)               (None, 128)               131200    \n",
            "                                                                 \n",
            " dense_1 (Dense)             (None, 128)               16512     \n",
            "                                                                 \n",
            " dense_2 (Dense)             (None, 10)                1290      \n",
            "                                                                 \n",
            "=================================================================\n",
            "Total params: 253,130\n",
            "Trainable params: 253,130\n",
            "Non-trainable params: 0\n",
            "_________________________________________________________________\n",
            "Epoch 1/3\n",
            "1875/1875 [==============================] - 24s 12ms/step - loss: 0.1693 - accuracy: 0.9477\n",
            "Epoch 2/3\n",
            "1875/1875 [==============================] - 23s 12ms/step - loss: 0.0584 - accuracy: 0.9822\n",
            "Epoch 3/3\n",
            "1875/1875 [==============================] - 23s 12ms/step - loss: 0.0393 - accuracy: 0.9872\n",
            "[[1.5779896e-06 6.4373125e-07 1.5590724e-05 ... 9.9995494e-01\n",
            "  2.0704929e-06 4.9729538e-06]\n",
            " [5.8150607e-07 1.4817740e-05 9.9998343e-01 ... 6.0466341e-08\n",
            "  4.7615464e-07 9.7799165e-12]\n",
            " [3.8478692e-08 9.9995506e-01 1.3925231e-06 ... 3.6463240e-05\n",
            "  8.8620322e-07 1.0458794e-07]\n",
            " ...\n",
            " [9.0489534e-12 1.4077981e-08 4.4442880e-09 ... 1.6784786e-07\n",
            "  7.6125318e-08 3.3763772e-07]\n",
            " [1.5588482e-10 2.5547715e-12 1.2164709e-13 ... 3.1015956e-13\n",
            "  8.7222048e-08 1.6038051e-12]\n",
            " [5.2745418e-07 3.0476631e-08 1.3078479e-06 ... 6.6865408e-10\n",
            "  5.2085545e-07 6.7367387e-09]]\n",
            "9\n"
          ]
        },
        {
          "output_type": "display_data",
          "data": {
            "text/plain": [
              "<Figure size 432x288 with 1 Axes>"
            ],
            "image/png": "[encoded data removed]"
          },
          "metadata": {
            "needs_background": "light"
          }
        }
      ],
      "source": [
        "# Program_20b.ipynb: CNN network for the MNIST data set.\n",
        "import tensorflow as tf\n",
        "import matplotlib.pyplot as plt\n",
        "mnist = tf.keras.datasets.mnist # Digits 0-9, 28x28 pixels\n",
        "(x_train, y_train), (x_test, y_test) = mnist.load_data()\n",
        "figure(figsize=(6, 6), dpi=80)\n",
        "plt.imshow(x_train[0])\n",
        "plt.show()\n",
        "# Normalize the data.\n",
        "x_train = tf.keras.utils.normalize(x_train, axis = 1)\n",
        "x_test = tf.keras.utils.normalize(x_test, axis = 1)\n",
        "#x_train = x_train.reshape((x_train.shape[0], x_train.shape[1], x_train.shape[2], 1))\n",
        "#x_test = x_test.reshape((x_test.shape[0], x_test.shape[1], x_test.shape[2], 1))\n",
        "from matplotlib.pyplot import figure\n",
        "figure(figsize=(6, 6), dpi=80)\n",
        "plt.imshow(x_train[0],cmap=plt.cm.binary)\n",
        "plt.show()\n",
        "# Build the CNN (see Figure 20.1).\n",
        "input_shape=(28,28,1)\n",
        "inputs = tf.keras.layers.Input(shape=input_shape)    # The input layer.\n",
        "layer = tf.keras.layers.Conv2D(filters=64, kernel_size=(5,5), strides=(2,2), activation=tf.nn.relu)(inputs)\n",
        "layer = tf.keras.layers.Conv2D(filters=64, kernel_size=(5,5), strides=(2,2), activation=tf.nn.relu)(layer)\n",
        "layer = tf.keras.layers.Flatten()(layer)\n",
        "layer = tf.keras.layers.Dense(128, activation = tf.nn.relu)(layer)   # The 1st hidden layer with RELU activation. \n",
        "layer = tf.keras.layers.Dense(128, activation = tf.nn.relu)(layer)  # The 2nd hidden layer with RELU activation.\n",
        "outputs = tf.keras.layers.Dense(10, activation = tf.nn.softmax)(layer) # The number of classifications with softmax activation.\n",
        "# Compile the CNN.\n",
        "model = tf.keras.Model(inputs, outputs)\n",
        "model.summary()\n",
        "model.compile(optimizer='adam',\n",
        "             loss='sparse_categorical_crossentropy',\n",
        "             metrics=['accuracy'])\n",
        "model.fit(x_train, y_train, epochs = 3)\n",
        "x = x_test.reshape((x_test.shape[0], x_test.shape[1], x_test.shape[2], 1))\n",
        "predictions = model.predict([x_test])\n",
        "print(predictions)\n",
        "import numpy as np\n",
        "index = 1000\n",
        "print(np.argmax(predictions[index]))\n",
        "plt.imshow(x_test[index].reshape((28,28)))\n",
        "plt.show()"
      ]
    }
  ]
}