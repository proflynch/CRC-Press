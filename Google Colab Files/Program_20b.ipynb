{
 "cells": [
  {
   "cell_type": "code",
   "execution_count": null,
   "metadata": {},
   "outputs": [],
   "source": [
    "# Program_20b.ipynb: CNN network for the MNIST data set.\n",
    "# Run program in Google Colab.\n",
    "import tensorflow as tf\n",
    "import matplotlib.pyplot as plt\n",
    "mnist = tf.keras.datasets.mnist # Digits 0-9, 28x28 pixels\n",
    "(x_train, y_train), (x_test, y_test) = mnist.load_data()\n",
    "plt.figure(figsize=(6, 6), dpi=80)\n",
    "plt.imshow(x_train[0])\n",
    "plt.show()\n",
    "# Normalize the data.\n",
    "x_train = tf.keras.utils.normalize(x_train, axis = 1)\n",
    "x_test = tf.keras.utils.normalize(x_test, axis = 1)\n",
    "#x_train = x_train.reshape((x_train.shape[0], x_train.shape[1], x_train.shape[2], 1))\n",
    "#x_test = x_test.reshape((x_test.shape[0], x_test.shape[1], x_test.shape[2], 1))\n",
    "from matplotlib.pyplot import figure\n",
    "figure(figsize=(6, 6), dpi=80)\n",
    "plt.imshow(x_train[0],cmap=plt.cm.binary)\n",
    "plt.show()\n",
    "# Build the CNN (see Figure 20.1).\n",
    "input_shape=(28,28,1)\n",
    "inputs = tf.keras.layers.Input(shape=input_shape)    # The input layer.\n",
    "layer = tf.keras.layers.Conv2D(filters=64, kernel_size=(5,5), strides=(2,2), activation=tf.nn.relu)(inputs)\n",
    "layer = tf.keras.layers.Conv2D(filters=64, kernel_size=(5,5), strides=(2,2), activation=tf.nn.relu)(layer)\n",
    "layer = tf.keras.layers.Flatten()(layer)\n",
    "layer = tf.keras.layers.Dense(128, activation = tf.nn.relu)(layer)   # The 1st hidden layer with RELU activation. \n",
    "layer = tf.keras.layers.Dense(128, activation = tf.nn.relu)(layer)  # The 2nd hidden layer with RELU activation.\n",
    "outputs = tf.keras.layers.Dense(10, activation = tf.nn.softmax)(layer) # The number of classifications with softmax activation.\n",
    "# Compile the CNN.\n",
    "model = tf.keras.Model(inputs, outputs)\n",
    "model.summary()\n",
    "model.compile(optimizer='adam',\n",
    "             loss='sparse_categorical_crossentropy',\n",
    "             metrics=['accuracy'])\n",
    "model.fit(x_train, y_train, epochs = 3)\n",
    "x = x_test.reshape((x_test.shape[0], x_test.shape[1], x_test.shape[2], 1))\n",
    "predictions = model.predict([x_test])\n",
    "print(predictions)\n",
    "import numpy as np\n",
    "index = 1000\n",
    "print(np.argmax(predictions[index]))\n",
    "plt.imshow(x_test[index].reshape((28,28)))\n",
    "plt.show()"
   ]
  }
 ],
 "metadata": {
  "colab": {
   "collapsed_sections": [],
   "name": "Program_20b.ipynb",
   "provenance": []
  },
  "kernelspec": {
   "display_name": "Python 3 (ipykernel)",
   "language": "python",
   "name": "python3"
  },
  "language_info": {
   "codemirror_mode": {
    "name": "ipython",
    "version": 3
   },
   "file_extension": ".py",
   "mimetype": "text/x-python",
   "name": "python",
   "nbconvert_exporter": "python",
   "pygments_lexer": "ipython3",
   "version": "3.9.7"
  }
 },
 "nbformat": 4,
 "nbformat_minor": 1
}
